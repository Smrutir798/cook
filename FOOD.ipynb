{
 "cells": [
  {
   "cell_type": "code",
   "execution_count": 1,
   "metadata": {
    "executionInfo": {
     "elapsed": 5428,
     "status": "ok",
     "timestamp": 1745339470429,
     "user": {
      "displayName": "Smruti Ranjan",
      "userId": "02421602762441713336"
     },
     "user_tz": -330
    },
    "id": "vJQWDiHVVhiD"
   },
   "outputs": [],
   "source": [
    "import pandas as pd\n",
    "import numpy as np\n",
    "import matplotlib.pyplot as plt\n",
    "import seaborn as sns\n",
    "import warnings\n",
    "warnings.filterwarnings('ignore')"
   ]
  },
  {
   "cell_type": "code",
   "execution_count": 2,
   "metadata": {
    "executionInfo": {
     "elapsed": 741,
     "status": "ok",
     "timestamp": 1745339524190,
     "user": {
      "displayName": "Smruti Ranjan",
      "userId": "02421602762441713336"
     },
     "user_tz": -330
    },
    "id": "yZ3yzoWfVhiG"
   },
   "outputs": [],
   "source": [
    "df = pd.read_csv('IndianFoodDatasetCSV.csv')"
   ]
  },
  {
   "cell_type": "code",
   "execution_count": 3,
   "metadata": {
    "colab": {
     "base_uri": "https://localhost:8080/",
     "height": 608
    },
    "executionInfo": {
     "elapsed": 711,
     "status": "ok",
     "timestamp": 1745339525884,
     "user": {
      "displayName": "Smruti Ranjan",
      "userId": "02421602762441713336"
     },
     "user_tz": -330
    },
    "id": "MOEfFr2wVhiI",
    "outputId": "6e5b82a6-a63c-4af8-d902-e30710fcd80d"
   },
   "outputs": [
    {
     "data": {
      "application/vnd.microsoft.datawrangler.viewer.v0+json": {
       "columns": [
        {
         "name": "index",
         "rawType": "int64",
         "type": "integer"
        },
        {
         "name": "Srno",
         "rawType": "int64",
         "type": "integer"
        },
        {
         "name": "RecipeName",
         "rawType": "object",
         "type": "string"
        },
        {
         "name": "TranslatedRecipeName",
         "rawType": "object",
         "type": "string"
        },
        {
         "name": "Ingredients",
         "rawType": "object",
         "type": "string"
        },
        {
         "name": "TranslatedIngredients",
         "rawType": "object",
         "type": "string"
        },
        {
         "name": "PrepTimeInMins",
         "rawType": "int64",
         "type": "integer"
        },
        {
         "name": "CookTimeInMins",
         "rawType": "int64",
         "type": "integer"
        },
        {
         "name": "TotalTimeInMins",
         "rawType": "int64",
         "type": "integer"
        },
        {
         "name": "Servings",
         "rawType": "int64",
         "type": "integer"
        },
        {
         "name": "Cuisine",
         "rawType": "object",
         "type": "string"
        },
        {
         "name": "Course",
         "rawType": "object",
         "type": "string"
        },
        {
         "name": "Diet",
         "rawType": "object",
         "type": "string"
        },
        {
         "name": "Instructions",
         "rawType": "object",
         "type": "string"
        },
        {
         "name": "TranslatedInstructions",
         "rawType": "object",
         "type": "string"
        },
        {
         "name": "URL",
         "rawType": "object",
         "type": "string"
        }
       ],
       "ref": "d801d889-78ba-4ae8-b23c-274ff0a57045",
       "rows": [
        [
         "0",
         "1",
         "Masala Karela Recipe",
         "Masala Karela Recipe",
         "6 Karela (Bitter Gourd/ Pavakkai) - deseeded,Salt - to taste,1 Onion - thinly sliced,3 tablespoon Gram flour (besan),2 teaspoons Turmeric powder (Haldi),1 tablespoon Red Chilli powder,2 teaspoons Cumin seeds (Jeera),1 tablespoon Coriander Powder (Dhania),1 tablespoon Amchur (Dry Mango Powder),Sunflower Oil - as required",
         "6 Karela (Bitter Gourd/ Pavakkai) - deseeded,Salt - to taste,1 Onion - thinly sliced,3 tablespoon Gram flour (besan),2 teaspoons Turmeric powder (Haldi),1 tablespoon Red Chilli powder,2 teaspoons Cumin seeds (Jeera),1 tablespoon Coriander Powder (Dhania),1 tablespoon Amchur (Dry Mango Powder),Sunflower Oil - as required",
         "15",
         "30",
         "45",
         "6",
         "Indian",
         "Side Dish",
         "Diabetic Friendly",
         "To begin making the Masala Karela Recipe,de-seed the karela and slice. Do not remove the skin as the skin has all the nutrients. Add the karela to the pressure cooker with 3 tablespoon of water, salt and turmeric powder and pressure cook for three whistles. Release the pressure immediately and open the lids. Keep aside.Heat oil in a heavy bottomed pan or a kadhai. Add cumin seeds and let it sizzle.Once the cumin seeds have sizzled, add onions and saute them till it turns golden brown in color.Add the karela, red chilli powder, amchur powder, coriander powder and besan. Stir to combine the masalas into the karela.Drizzle a little extra oil on the top and mix again. Cover the pan and simmer Masala Karela stirring occasionally until everything comes together well. Turn off the heat.Transfer Masala Karela into a serving bowl and serve.Serve Masala Karela along with Panchmel Dal and Phulka for a weekday meal with your family. \n",
         "To begin making the Masala Karela Recipe,de-seed the karela and slice. Do not remove the skin as the skin has all the nutrients. Add the karela to the pressure cooker with 3 tablespoon of water, salt and turmeric powder and pressure cook for three whistles. Release the pressure immediately and open the lids. Keep aside.Heat oil in a heavy bottomed pan or a kadhai. Add cumin seeds and let it sizzle.Once the cumin seeds have sizzled, add onions and saute them till it turns golden brown in color.Add the karela, red chilli powder, amchur powder, coriander powder and besan. Stir to combine the masalas into the karela.Drizzle a little extra oil on the top and mix again. Cover the pan and simmer Masala Karela stirring occasionally until everything comes together well. Turn off the heat.Transfer Masala Karela into a serving bowl and serve.Serve Masala Karela along with Panchmel Dal and Phulka for a weekday meal with your family. ",
         "https://www.archanaskitchen.com/masala-karela-recipe"
        ],
        [
         "1",
         "2",
         "टमाटर पुलियोगरे रेसिपी - Spicy Tomato Rice (Recipe In Hindi)",
         "Spicy Tomato Rice (Recipe)",
         "2-1/2 कप चावल - पका ले,3 टमाटर,3 छोटा चमच्च बीसी बेले भात पाउडर,नमक - स्वाद अनुसार,1 छोटा चमच्च चना दाल,1/2 छोटा चमच्च जीरा,1 छोटा चमच्च सफ़ेद उरद दाल,1/2 छोटा चमच्च राइ,1 हरी मिर्च,1 सुखी लाल मिर्च,2 छोटा चमच्च काजू - या मूंगफली,1-1/2 बड़े चमच्च तेल - प्रयोग अनुसार,1/2 छोटा चमच्च हींग",
         "2-1 / 2 cups rice - cooked, 3 tomatoes, 3 teaspoons BC Belle Bhat powder, salt - as per taste, 1 teaspoon chickpea lentils, 1/2 teaspoon cumin seeds, 1 teaspoon white urad dal, 1/2 Teaspoon mustard, 1 green chilli, 1 dry red chilli, 2 teaspoon cashew - or peanuts, 1-1 / 2 tablespoon oil - 1/2 teaspoon asafoetida",
         "5",
         "10",
         "15",
         "3",
         "South Indian Recipes",
         "Main Course",
         "Vegetarian",
         "टमाटर पुलियोगरे बनाने के लिए सबसे पहले टमाटर को काट ले. अब एक मिक्सर ग्राइंडर में डाले और उसकी प्यूरी बना ले. अब एक कढ़ाई में तेल गरम करें। तेल के गरम होने के बाद इसमें चना दाल, उरद दाल, काजू डाले और 10 से 20 सेकण्ड्स तक पकने दे. 10 से 20 सेकण्ड्स के बाद इसमें जीरा, राइ, हरी मिर्च, सुखी लाल मिर्च और कढ़ी पत्ता डाले। 30 सेकण्ड्स बाद इसमें टमाटर की प्यूरी डाले और मिला ले. इसमें बीसी बेले भात पाउडर, नमक डाले और मिला ले. 7 से 8 मिनट के लिए पकने दे और फिर गैस बंद कर दे. इसे एक बाउल में निकाले, इसमें पके हुए चावल डाले और मिला ले. गरमा गरम परोसे। टमाटर पुलियोगरे को टमाटर ककड़ी रायता और पापड़ के साथ दिन के खाने के लिए परोसे।\n",
         "To make tomato puliogere, first cut the tomatoes. Now put in a mixer grinder and puree it. Now heat oil in a pan. After the oil is hot, add chana dal, urad dal, cashew and let it cook for 10 to 20 seconds. After 10 to 20 seconds, add cumin seeds, mustard seeds, green chillies, dry red chillies and curry leaves. After 30 seconds, add tomato puree to it and mix. Add BC Belle Bhat powder, salt and mix it. Allow to cook for 7 to 8 minutes and then turn off the gas. Take it out in a bowl, add cooked rice and mix it. Serve hot. Serve tomato puliogre with tomato cucumber raita and papad for dinner.",
         "http://www.archanaskitchen.com/spicy-tomato-rice-recipe-in-hindi"
        ],
        [
         "2",
         "3",
         "Ragi Semiya Upma Recipe - Ragi Millet Vermicelli Breakfast",
         "Ragi Semiya Upma Recipe - Ragi Millet Vermicelli Breakfast",
         "1-1/2 cups Rice Vermicelli Noodles (Thin),1 Onion - sliced,1/2 cup Carrots (Gajjar) - chopped,1/3 cup Green peas (Matar),2 Green Chillies,1/4 teaspoon Asafoetida (hing),1 teaspoon Mustard seeds,1 teaspoon White Urad Dal (Split),1 teaspoon Ghee,1 sprig Curry leaves,Salt - to taste,1 teaspoon Lemon juice",
         "1-1/2 cups Rice Vermicelli Noodles (Thin),1 Onion - sliced,1/2 cup Carrots (Gajjar) - chopped,1/3 cup Green peas (Matar),2 Green Chillies,1/4 teaspoon Asafoetida (hing),1 teaspoon Mustard seeds,1 teaspoon White Urad Dal (Split),1 teaspoon Ghee,1 sprig Curry leaves,Salt - to taste,1 teaspoon Lemon juice",
         "20",
         "30",
         "50",
         "4",
         "South Indian Recipes",
         "South Indian Breakfast",
         "High Protein Vegetarian",
         "To begin making the Ragi Vermicelli Recipe, first steam the ragi vermicelli in a rice cooker or a steamer for about 5-6 minutes or till it is cooked but firm.Keep aside this aside till later use. You can add a few drops of oil and mix it so that they don't stick to each other.Place a kadai on the heat, add the ghee or oil to it and when warm add hing and allow it to sizzle for 30 seconds. Then follow it up with mustard seeds, urad dal and curry leaves, and allow them to crackle.Saute for 1 minute or so till the urad dal is slightly browned.Then, add onions and fry till translucent and soft.Next, add the green chillies along with par boiled carrots and peas. Sprinkle some salt and cook for 2-3 minutes or until the vegetables are semi cooked.Then, add the steamed ragi vermicelli toss it together so the vegetables are all well combined.Switch off the heat, take the vermicelli out into a serving dish and to with lemon juice. Mix well and serve along with Coconut Chutney and a hot cup of coffee or tea for a wholesome breakfast.\n",
         "To begin making the Ragi Vermicelli Recipe, first steam the ragi vermicelli in a rice cooker or a steamer for about 5-6 minutes or till it is cooked but firm.Keep aside this aside till later use. You can add a few drops of oil and mix it so that they don't stick to each other.Place a kadai on the heat, add the ghee or oil to it and when warm add hing and allow it to sizzle for 30 seconds. Then follow it up with mustard seeds, urad dal and curry leaves, and allow them to crackle.Saute for 1 minute or so till the urad dal is slightly browned.Then, add onions and fry till translucent and soft.Next, add the green chillies along with par boiled carrots and peas. Sprinkle some salt and cook for 2-3 minutes or until the vegetables are semi cooked.Then, add the steamed ragi vermicelli toss it together so the vegetables are all well combined.Switch off the heat, take the vermicelli out into a serving dish and to with lemon juice. Mix well and serve along with Coconut Chutney and a hot cup of coffee or tea for a wholesome breakfast.",
         "http://www.archanaskitchen.com/ragi-vermicelli-semiya-recipe-healthy-finger-millet-semiya-breakfast"
        ],
        [
         "3",
         "4",
         "Gongura Chicken Curry Recipe - Andhra Style Gongura Chicken",
         "Gongura Chicken Curry Recipe - Andhra Style Gongura Chicken",
         "500 grams Chicken,2 Onion - chopped,1 Tomato - chopped,4 Green Chillies - slit,1 inch Ginger - finely chopped,6 cloves Garlic - finely chopped,1/2 teaspoon Turmeric powder (Haldi),1 teaspoon Garam masala powder,2 tablespoon Sesame (Gingelly) Oil,Salt - to taste,1/4 teaspoon Methi Seeds (Fenugreek Seeds),1 tablespoon Coriander (Dhania) Seeds,4 Dry Red Chillies,1 teaspoon Fennel seeds (Saunf),1 teaspoon Sesame (Gingelly) Oil,4 cloves Garlic,2 cups Sorrel Leaves (Gongura) - picked and chopped,Salt - to taste",
         "500 grams Chicken,2 Onion - chopped,1 Tomato - chopped,4 Green Chillies - slit,1 inch Ginger - finely chopped,6 cloves Garlic - finely chopped,1/2 teaspoon Turmeric powder (Haldi),1 teaspoon Garam masala powder,2 tablespoon Sesame (Gingelly) Oil,Salt - to taste,1/4 teaspoon Methi Seeds (Fenugreek Seeds),1 tablespoon Coriander (Dhania) Seeds,4 Dry Red Chillies,1 teaspoon Fennel seeds (Saunf),1 teaspoon Sesame (Gingelly) Oil,4 cloves Garlic,2 cups Sorrel Leaves (Gongura) - picked and chopped,Salt - to taste",
         "15",
         "30",
         "45",
         "4",
         "Andhra",
         "Lunch",
         "Non Vegeterian",
         "To begin making Gongura Chicken Curry Recipe first prep all the ingredients and keep them aside.In a small pan, dry roast the methi seeds, coriander seeds, fennel seeds and red chillies for about 3 to 4 minutes on medium heat, until you notice the seeds crackling. Once done, turn off the heat and allow it to cool a bit and blend it into a smooth powder.Heat oil in a pressure cooker over medium heat; add the chopped onions, ginger, garlic and green chillies and saute until the onions are lightly browned and tender.Add the tomatoes, and saute until the tomatoes become soft and mushy. Once done add the chicken, the garam masala and turmeric powder. Add 1/4 cup of water and pressure cook the chicken for 3 to 4 whistles and turn off the heat.Once done, allow the pressure to release naturally.Make sure there are no stems when you pick the gongura leaves. Wash and chop the gongura leaves and keep aside.In another pan,add some oil along garlic and saute the chopped gongura leaves along with a little salt and the ground masala. The gongura leaves will wilt almost instantly. Saute the gongura in the masala for about 3 to 4 minutes until it becomes like a mushy paste.Once done, add the cooked chicken curry into the Gongura masala and saute on high heat for another 2 minutes and turn off the heat.Check the salt and spices and adjust according to taste. Transfer the Gongura Chicken Curry to a serving bowl and serve hot.Serve Gongura Chicken with Ghee Rice Recipe | Neychoru , Tomato Onion Cucumber Raita Recipe and a Semiya Payasam for a delicious weekend lunch.\n",
         "To begin making Gongura Chicken Curry Recipe first prep all the ingredients and keep them aside.In a small pan, dry roast the methi seeds, coriander seeds, fennel seeds and red chillies for about 3 to 4 minutes on medium heat, until you notice the seeds crackling. Once done, turn off the heat and allow it to cool a bit and blend it into a smooth powder.Heat oil in a pressure cooker over medium heat; add the chopped onions, ginger, garlic and green chillies and saute until the onions are lightly browned and tender.Add the tomatoes, and saute until the tomatoes become soft and mushy. Once done add the chicken, the garam masala and turmeric powder. Add 1/4 cup of water and pressure cook the chicken for 3 to 4 whistles and turn off the heat.Once done, allow the pressure to release naturally.Make sure there are no stems when you pick the gongura leaves. Wash and chop the gongura leaves and keep aside.In another pan,add some oil along garlic and saute the chopped gongura leaves along with a little salt and the ground masala. The gongura leaves will wilt almost instantly. Saute the gongura in the masala for about 3 to 4 minutes until it becomes like a mushy paste.Once done, add the cooked chicken curry into the Gongura masala and saute on high heat for another 2 minutes and turn off the heat.Check the salt and spices and adjust according to taste. Transfer the Gongura Chicken Curry to a serving bowl and serve hot.Serve Gongura Chicken with Ghee Rice Recipe | Neychoru , Tomato Onion Cucumber Raita Recipe and a Semiya Payasam for a delicious weekend lunch.",
         "http://www.archanaskitchen.com/gongura-chicken-curry-recipe-andhra-style-gongura-chicken"
        ],
        [
         "4",
         "5",
         "आंध्रा स्टाइल आलम पचड़ी रेसिपी - Adrak Chutney (Recipe In Hindi)",
         "Andhra Style Alam Pachadi Recipe - Adrak Chutney (Recipe)",
         "1 बड़ा चमच्च चना दाल,1 बड़ा चमच्च सफ़ेद उरद दाल,2 सुखी लाल मिर्च,1 बड़ा चमच्च धनिये के बीज,3 इंच अदरक - काट ले,1 प्याज - काट ले,1 टमाटर - काट ले,नमक - स्वाद अनुसार,1 छोटा चमच्च राइ,हींग - चुटकी भर,तेल - प्रयोग अनुसार,1 टहनी कढ़ी",
         "1 tablespoon chana dal, 1 tablespoon white urad dal, 2 red chillies, 1 tablespoon coriander seeds, 3 inches ginger - chop, 1 onion - chop, 1 tomato - chop, salt - as per taste, 1 Teaspoon mustard, asafoetida - a pinch, oil - as per use, 1 sprig curry",
         "10",
         "20",
         "30",
         "4",
         "Andhra",
         "South Indian Breakfast",
         "Vegetarian",
         "आंध्रा स्टाइल आलम पचड़ी बनाने के लिए सबसे पहले एक कढ़ाई में तेल गरम करे ले. इसमें दाल डाले और भूरा होने तक पका ले.अब इसमें सुखी लाल मिर्च, धनिये के बीज, प्याज, अदरक डाले और प्याज के नरम होने तक पकाए। प्याज के पकने के बाद, इसमें टमाटर डाले और टमाटर के नरम होने तक पका ले. गैस बंद करें और ठंडा होने दे. ठंडा होने के बाद इसको एक मिक्सर ग्राइंडर में डाले और पेस्ट बना ले.  तड़के के लिए, एक छोटी कढ़ाई में तेल गरम करें। इसमें राइ डाले और 10 सेकण्ड्स तक पकने दे. अब इसमें कढ़ी पत्ता, हींग डाले और 10 सेकण्ड्स तक पकने दे. इसे चटनी में डाले और मिला ले. आंध्रा स्टाइल आलम पचड़ी को घी रोस्ट डोसा और किरई सांबर के साथ सुबह के नाश्ते के लिए परोसे।\n",
         "To make Andhra Style Alam Pachadi, first heat oil in a pan. Add lentils and cook till it turns brown. Now add dry red chillies, coriander seeds, onion, ginger and cook till the onion becomes soft. After the onion is cooked, add tomatoes and cook till the tomatoes become soft. Turn off the gas and allow it to cool. After it cools down, put it in a mixer grinder and make a paste. For tempering, heat the oil in a small pan. Add mustard seeds and let it cook for 10 seconds. Now add curry leaves, asafoetida and let it cook for 10 seconds. Add it to the chutney and mix. Serve Andhra Style Alam Pachadi with Ghee Roast Dosa and Kirai Sambar for breakfast.",
         "https://www.archanaskitchen.com/andhra-style-allam-pachadi-ginger-chutney-recipe-in-hindi"
        ]
       ],
       "shape": {
        "columns": 15,
        "rows": 5
       }
      },
      "text/html": [
       "<div>\n",
       "<style scoped>\n",
       "    .dataframe tbody tr th:only-of-type {\n",
       "        vertical-align: middle;\n",
       "    }\n",
       "\n",
       "    .dataframe tbody tr th {\n",
       "        vertical-align: top;\n",
       "    }\n",
       "\n",
       "    .dataframe thead th {\n",
       "        text-align: right;\n",
       "    }\n",
       "</style>\n",
       "<table border=\"1\" class=\"dataframe\">\n",
       "  <thead>\n",
       "    <tr style=\"text-align: right;\">\n",
       "      <th></th>\n",
       "      <th>Srno</th>\n",
       "      <th>RecipeName</th>\n",
       "      <th>TranslatedRecipeName</th>\n",
       "      <th>Ingredients</th>\n",
       "      <th>TranslatedIngredients</th>\n",
       "      <th>PrepTimeInMins</th>\n",
       "      <th>CookTimeInMins</th>\n",
       "      <th>TotalTimeInMins</th>\n",
       "      <th>Servings</th>\n",
       "      <th>Cuisine</th>\n",
       "      <th>Course</th>\n",
       "      <th>Diet</th>\n",
       "      <th>Instructions</th>\n",
       "      <th>TranslatedInstructions</th>\n",
       "      <th>URL</th>\n",
       "    </tr>\n",
       "  </thead>\n",
       "  <tbody>\n",
       "    <tr>\n",
       "      <th>0</th>\n",
       "      <td>1</td>\n",
       "      <td>Masala Karela Recipe</td>\n",
       "      <td>Masala Karela Recipe</td>\n",
       "      <td>6 Karela (Bitter Gourd/ Pavakkai) - deseeded,S...</td>\n",
       "      <td>6 Karela (Bitter Gourd/ Pavakkai) - deseeded,S...</td>\n",
       "      <td>15</td>\n",
       "      <td>30</td>\n",
       "      <td>45</td>\n",
       "      <td>6</td>\n",
       "      <td>Indian</td>\n",
       "      <td>Side Dish</td>\n",
       "      <td>Diabetic Friendly</td>\n",
       "      <td>To begin making the Masala Karela Recipe,de-se...</td>\n",
       "      <td>To begin making the Masala Karela Recipe,de-se...</td>\n",
       "      <td>https://www.archanaskitchen.com/masala-karela-...</td>\n",
       "    </tr>\n",
       "    <tr>\n",
       "      <th>1</th>\n",
       "      <td>2</td>\n",
       "      <td>टमाटर पुलियोगरे रेसिपी - Spicy Tomato Rice (Re...</td>\n",
       "      <td>Spicy Tomato Rice (Recipe)</td>\n",
       "      <td>2-1/2 कप चावल - पका ले,3 टमाटर,3 छोटा चमच्च बी...</td>\n",
       "      <td>2-1 / 2 cups rice - cooked, 3 tomatoes, 3 teas...</td>\n",
       "      <td>5</td>\n",
       "      <td>10</td>\n",
       "      <td>15</td>\n",
       "      <td>3</td>\n",
       "      <td>South Indian Recipes</td>\n",
       "      <td>Main Course</td>\n",
       "      <td>Vegetarian</td>\n",
       "      <td>टमाटर पुलियोगरे बनाने के लिए सबसे पहले टमाटर क...</td>\n",
       "      <td>To make tomato puliogere, first cut the tomato...</td>\n",
       "      <td>http://www.archanaskitchen.com/spicy-tomato-ri...</td>\n",
       "    </tr>\n",
       "    <tr>\n",
       "      <th>2</th>\n",
       "      <td>3</td>\n",
       "      <td>Ragi Semiya Upma Recipe - Ragi Millet Vermicel...</td>\n",
       "      <td>Ragi Semiya Upma Recipe - Ragi Millet Vermicel...</td>\n",
       "      <td>1-1/2 cups Rice Vermicelli Noodles (Thin),1 On...</td>\n",
       "      <td>1-1/2 cups Rice Vermicelli Noodles (Thin),1 On...</td>\n",
       "      <td>20</td>\n",
       "      <td>30</td>\n",
       "      <td>50</td>\n",
       "      <td>4</td>\n",
       "      <td>South Indian Recipes</td>\n",
       "      <td>South Indian Breakfast</td>\n",
       "      <td>High Protein Vegetarian</td>\n",
       "      <td>To begin making the Ragi Vermicelli Recipe, fi...</td>\n",
       "      <td>To begin making the Ragi Vermicelli Recipe, fi...</td>\n",
       "      <td>http://www.archanaskitchen.com/ragi-vermicelli...</td>\n",
       "    </tr>\n",
       "    <tr>\n",
       "      <th>3</th>\n",
       "      <td>4</td>\n",
       "      <td>Gongura Chicken Curry Recipe - Andhra Style Go...</td>\n",
       "      <td>Gongura Chicken Curry Recipe - Andhra Style Go...</td>\n",
       "      <td>500 grams Chicken,2 Onion - chopped,1 Tomato -...</td>\n",
       "      <td>500 grams Chicken,2 Onion - chopped,1 Tomato -...</td>\n",
       "      <td>15</td>\n",
       "      <td>30</td>\n",
       "      <td>45</td>\n",
       "      <td>4</td>\n",
       "      <td>Andhra</td>\n",
       "      <td>Lunch</td>\n",
       "      <td>Non Vegeterian</td>\n",
       "      <td>To begin making Gongura Chicken Curry Recipe f...</td>\n",
       "      <td>To begin making Gongura Chicken Curry Recipe f...</td>\n",
       "      <td>http://www.archanaskitchen.com/gongura-chicken...</td>\n",
       "    </tr>\n",
       "    <tr>\n",
       "      <th>4</th>\n",
       "      <td>5</td>\n",
       "      <td>आंध्रा स्टाइल आलम पचड़ी रेसिपी - Adrak Chutney ...</td>\n",
       "      <td>Andhra Style Alam Pachadi Recipe - Adrak Chutn...</td>\n",
       "      <td>1 बड़ा चमच्च चना दाल,1 बड़ा चमच्च सफ़ेद उरद दाल,2...</td>\n",
       "      <td>1 tablespoon chana dal, 1 tablespoon white ura...</td>\n",
       "      <td>10</td>\n",
       "      <td>20</td>\n",
       "      <td>30</td>\n",
       "      <td>4</td>\n",
       "      <td>Andhra</td>\n",
       "      <td>South Indian Breakfast</td>\n",
       "      <td>Vegetarian</td>\n",
       "      <td>आंध्रा स्टाइल आलम पचड़ी बनाने के लिए सबसे पहले ...</td>\n",
       "      <td>To make Andhra Style Alam Pachadi, first heat ...</td>\n",
       "      <td>https://www.archanaskitchen.com/andhra-style-a...</td>\n",
       "    </tr>\n",
       "  </tbody>\n",
       "</table>\n",
       "</div>"
      ],
      "text/plain": [
       "   Srno                                         RecipeName  \\\n",
       "0     1                               Masala Karela Recipe   \n",
       "1     2  टमाटर पुलियोगरे रेसिपी - Spicy Tomato Rice (Re...   \n",
       "2     3  Ragi Semiya Upma Recipe - Ragi Millet Vermicel...   \n",
       "3     4  Gongura Chicken Curry Recipe - Andhra Style Go...   \n",
       "4     5  आंध्रा स्टाइल आलम पचड़ी रेसिपी - Adrak Chutney ...   \n",
       "\n",
       "                                TranslatedRecipeName  \\\n",
       "0                               Masala Karela Recipe   \n",
       "1                         Spicy Tomato Rice (Recipe)   \n",
       "2  Ragi Semiya Upma Recipe - Ragi Millet Vermicel...   \n",
       "3  Gongura Chicken Curry Recipe - Andhra Style Go...   \n",
       "4  Andhra Style Alam Pachadi Recipe - Adrak Chutn...   \n",
       "\n",
       "                                         Ingredients  \\\n",
       "0  6 Karela (Bitter Gourd/ Pavakkai) - deseeded,S...   \n",
       "1  2-1/2 कप चावल - पका ले,3 टमाटर,3 छोटा चमच्च बी...   \n",
       "2  1-1/2 cups Rice Vermicelli Noodles (Thin),1 On...   \n",
       "3  500 grams Chicken,2 Onion - chopped,1 Tomato -...   \n",
       "4  1 बड़ा चमच्च चना दाल,1 बड़ा चमच्च सफ़ेद उरद दाल,2...   \n",
       "\n",
       "                               TranslatedIngredients  PrepTimeInMins  \\\n",
       "0  6 Karela (Bitter Gourd/ Pavakkai) - deseeded,S...              15   \n",
       "1  2-1 / 2 cups rice - cooked, 3 tomatoes, 3 teas...               5   \n",
       "2  1-1/2 cups Rice Vermicelli Noodles (Thin),1 On...              20   \n",
       "3  500 grams Chicken,2 Onion - chopped,1 Tomato -...              15   \n",
       "4  1 tablespoon chana dal, 1 tablespoon white ura...              10   \n",
       "\n",
       "   CookTimeInMins  TotalTimeInMins  Servings               Cuisine  \\\n",
       "0              30               45         6                Indian   \n",
       "1              10               15         3  South Indian Recipes   \n",
       "2              30               50         4  South Indian Recipes   \n",
       "3              30               45         4                Andhra   \n",
       "4              20               30         4                Andhra   \n",
       "\n",
       "                   Course                     Diet  \\\n",
       "0               Side Dish        Diabetic Friendly   \n",
       "1             Main Course               Vegetarian   \n",
       "2  South Indian Breakfast  High Protein Vegetarian   \n",
       "3                   Lunch           Non Vegeterian   \n",
       "4  South Indian Breakfast               Vegetarian   \n",
       "\n",
       "                                        Instructions  \\\n",
       "0  To begin making the Masala Karela Recipe,de-se...   \n",
       "1  टमाटर पुलियोगरे बनाने के लिए सबसे पहले टमाटर क...   \n",
       "2  To begin making the Ragi Vermicelli Recipe, fi...   \n",
       "3  To begin making Gongura Chicken Curry Recipe f...   \n",
       "4  आंध्रा स्टाइल आलम पचड़ी बनाने के लिए सबसे पहले ...   \n",
       "\n",
       "                              TranslatedInstructions  \\\n",
       "0  To begin making the Masala Karela Recipe,de-se...   \n",
       "1  To make tomato puliogere, first cut the tomato...   \n",
       "2  To begin making the Ragi Vermicelli Recipe, fi...   \n",
       "3  To begin making Gongura Chicken Curry Recipe f...   \n",
       "4  To make Andhra Style Alam Pachadi, first heat ...   \n",
       "\n",
       "                                                 URL  \n",
       "0  https://www.archanaskitchen.com/masala-karela-...  \n",
       "1  http://www.archanaskitchen.com/spicy-tomato-ri...  \n",
       "2  http://www.archanaskitchen.com/ragi-vermicelli...  \n",
       "3  http://www.archanaskitchen.com/gongura-chicken...  \n",
       "4  https://www.archanaskitchen.com/andhra-style-a...  "
      ]
     },
     "execution_count": 3,
     "metadata": {},
     "output_type": "execute_result"
    }
   ],
   "source": [
    "df.head()"
   ]
  },
  {
   "cell_type": "code",
   "execution_count": 4,
   "metadata": {
    "colab": {
     "base_uri": "https://localhost:8080/"
    },
    "executionInfo": {
     "elapsed": 30,
     "status": "ok",
     "timestamp": 1745339525997,
     "user": {
      "displayName": "Smruti Ranjan",
      "userId": "02421602762441713336"
     },
     "user_tz": -330
    },
    "id": "r9SEgLNSVhiJ",
    "outputId": "0b730ae4-2390-4dd5-ea55-818796e766a0"
   },
   "outputs": [
    {
     "name": "stdout",
     "output_type": "stream",
     "text": [
      "<class 'pandas.core.frame.DataFrame'>\n",
      "RangeIndex: 6871 entries, 0 to 6870\n",
      "Data columns (total 15 columns):\n",
      " #   Column                  Non-Null Count  Dtype \n",
      "---  ------                  --------------  ----- \n",
      " 0   Srno                    6871 non-null   int64 \n",
      " 1   RecipeName              6871 non-null   object\n",
      " 2   TranslatedRecipeName    6871 non-null   object\n",
      " 3   Ingredients             6865 non-null   object\n",
      " 4   TranslatedIngredients   6865 non-null   object\n",
      " 5   PrepTimeInMins          6871 non-null   int64 \n",
      " 6   CookTimeInMins          6871 non-null   int64 \n",
      " 7   TotalTimeInMins         6871 non-null   int64 \n",
      " 8   Servings                6871 non-null   int64 \n",
      " 9   Cuisine                 6871 non-null   object\n",
      " 10  Course                  6871 non-null   object\n",
      " 11  Diet                    6871 non-null   object\n",
      " 12  Instructions            6871 non-null   object\n",
      " 13  TranslatedInstructions  6871 non-null   object\n",
      " 14  URL                     6871 non-null   object\n",
      "dtypes: int64(5), object(10)\n",
      "memory usage: 805.3+ KB\n"
     ]
    }
   ],
   "source": [
    "df.info()"
   ]
  },
  {
   "cell_type": "code",
   "execution_count": 5,
   "metadata": {
    "colab": {
     "base_uri": "https://localhost:8080/",
     "height": 554
    },
    "executionInfo": {
     "elapsed": 15,
     "status": "ok",
     "timestamp": 1745339526894,
     "user": {
      "displayName": "Smruti Ranjan",
      "userId": "02421602762441713336"
     },
     "user_tz": -330
    },
    "id": "qAZBGoSVVhiL",
    "outputId": "5e844fdb-89ad-429f-934d-ab7d916d24f0"
   },
   "outputs": [
    {
     "data": {
      "application/vnd.microsoft.datawrangler.viewer.v0+json": {
       "columns": [
        {
         "name": "index",
         "rawType": "object",
         "type": "string"
        },
        {
         "name": "0",
         "rawType": "int64",
         "type": "integer"
        }
       ],
       "ref": "5b3a208d-25cc-4fc5-9f15-a32b1b8d446d",
       "rows": [
        [
         "Srno",
         "0"
        ],
        [
         "RecipeName",
         "0"
        ],
        [
         "TranslatedRecipeName",
         "0"
        ],
        [
         "Ingredients",
         "6"
        ],
        [
         "TranslatedIngredients",
         "6"
        ],
        [
         "PrepTimeInMins",
         "0"
        ],
        [
         "CookTimeInMins",
         "0"
        ],
        [
         "TotalTimeInMins",
         "0"
        ],
        [
         "Servings",
         "0"
        ],
        [
         "Cuisine",
         "0"
        ],
        [
         "Course",
         "0"
        ],
        [
         "Diet",
         "0"
        ],
        [
         "Instructions",
         "0"
        ],
        [
         "TranslatedInstructions",
         "0"
        ],
        [
         "URL",
         "0"
        ]
       ],
       "shape": {
        "columns": 1,
        "rows": 15
       }
      },
      "text/plain": [
       "Srno                      0\n",
       "RecipeName                0\n",
       "TranslatedRecipeName      0\n",
       "Ingredients               6\n",
       "TranslatedIngredients     6\n",
       "PrepTimeInMins            0\n",
       "CookTimeInMins            0\n",
       "TotalTimeInMins           0\n",
       "Servings                  0\n",
       "Cuisine                   0\n",
       "Course                    0\n",
       "Diet                      0\n",
       "Instructions              0\n",
       "TranslatedInstructions    0\n",
       "URL                       0\n",
       "dtype: int64"
      ]
     },
     "execution_count": 5,
     "metadata": {},
     "output_type": "execute_result"
    }
   ],
   "source": [
    "df.isnull().sum()"
   ]
  },
  {
   "cell_type": "code",
   "execution_count": 6,
   "metadata": {
    "colab": {
     "base_uri": "https://localhost:8080/"
    },
    "executionInfo": {
     "elapsed": 19,
     "status": "ok",
     "timestamp": 1745339527750,
     "user": {
      "displayName": "Smruti Ranjan",
      "userId": "02421602762441713336"
     },
     "user_tz": -330
    },
    "id": "6fQyTejLVhiL",
    "outputId": "b4e54b57-bb1a-42f3-bb08-9e49c3475e62"
   },
   "outputs": [
    {
     "data": {
      "text/plain": [
       "array(['Indian', 'South Indian Recipes', 'Andhra', 'Udupi', 'Mexican',\n",
       "       'Fusion', 'Continental', 'Bengali Recipes', 'Punjabi', 'Chettinad',\n",
       "       'Tamil Nadu', 'Maharashtrian Recipes', 'North Indian Recipes',\n",
       "       'Italian Recipes', 'Sindhi', 'Thai', 'Chinese', 'Kerala Recipes',\n",
       "       'Gujarati Recipes\\ufeff', 'Coorg', 'Rajasthani', 'Asian',\n",
       "       'Middle Eastern', 'Coastal Karnataka', 'European', 'Kashmiri',\n",
       "       'Karnataka', 'Lucknowi', 'Hyderabadi', 'Side Dish', 'Goan Recipes',\n",
       "       'Arab', 'Assamese', 'Bihari', 'Malabar', 'Himachal', 'Awadhi',\n",
       "       'Cantonese', 'North East India Recipes', 'Sichuan', 'Mughlai',\n",
       "       'Japanese', 'Mangalorean', 'Vietnamese', 'British',\n",
       "       'North Karnataka', 'Parsi Recipes', 'Greek', 'Nepalese',\n",
       "       'Oriya Recipes', 'French', 'Indo Chinese', 'Konkan',\n",
       "       'Mediterranean', 'Sri Lankan', 'Haryana', 'Uttar Pradesh',\n",
       "       'Malvani', 'Indonesian', 'African', 'Shandong', 'Korean',\n",
       "       'American', 'Kongunadu', 'Pakistani', 'Caribbean',\n",
       "       'South Karnataka', 'Appetizer', 'Uttarakhand-North Kumaon',\n",
       "       'World Breakfast', 'Malaysian', 'Dessert', 'Hunan', 'Dinner',\n",
       "       'Snack', 'Jewish', 'Burmese', 'Afghan', 'Brunch', 'Jharkhand',\n",
       "       'Nagaland', 'Lunch'], dtype=object)"
      ]
     },
     "execution_count": 6,
     "metadata": {},
     "output_type": "execute_result"
    }
   ],
   "source": [
    "df['Cuisine'].unique()"
   ]
  },
  {
   "cell_type": "code",
   "execution_count": 7,
   "metadata": {
    "colab": {
     "base_uri": "https://localhost:8080/"
    },
    "executionInfo": {
     "elapsed": 31,
     "status": "ok",
     "timestamp": 1745339528479,
     "user": {
      "displayName": "Smruti Ranjan",
      "userId": "02421602762441713336"
     },
     "user_tz": -330
    },
    "id": "uXyBJjnPVhiM",
    "outputId": "6e1acd16-0d34-427e-f453-4a098f116fae"
   },
   "outputs": [
    {
     "data": {
      "text/plain": [
       "array(['Diabetic Friendly', 'Vegetarian', 'High Protein Vegetarian',\n",
       "       'Non Vegeterian', 'High Protein Non Vegetarian', 'Eggetarian',\n",
       "       'Vegan', 'No Onion No Garlic (Sattvic)', 'Gluten Free',\n",
       "       'Sugar Free Diet'], dtype=object)"
      ]
     },
     "execution_count": 7,
     "metadata": {},
     "output_type": "execute_result"
    }
   ],
   "source": [
    "df['Diet'].unique()"
   ]
  },
  {
   "cell_type": "code",
   "execution_count": 8,
   "metadata": {
    "colab": {
     "base_uri": "https://localhost:8080/"
    },
    "executionInfo": {
     "elapsed": 14,
     "status": "ok",
     "timestamp": 1745339529508,
     "user": {
      "displayName": "Smruti Ranjan",
      "userId": "02421602762441713336"
     },
     "user_tz": -330
    },
    "id": "5S3CmNO2VhiN",
    "outputId": "9ee5e88b-7ac3-4178-95cd-d0dd00856847"
   },
   "outputs": [
    {
     "data": {
      "text/plain": [
       "array(['Side Dish', 'Main Course', 'South Indian Breakfast', 'Lunch',\n",
       "       'Snack', 'High Protein Vegetarian', 'Dinner', 'Appetizer',\n",
       "       'Indian Breakfast', 'Dessert', 'North Indian Breakfast',\n",
       "       'One Pot Dish', 'World Breakfast', 'Non Vegeterian', 'Vegetarian',\n",
       "       'Eggetarian', 'No Onion No Garlic (Sattvic)', 'Brunch', 'Vegan',\n",
       "       'Sugar Free Diet'], dtype=object)"
      ]
     },
     "execution_count": 8,
     "metadata": {},
     "output_type": "execute_result"
    }
   ],
   "source": [
    "df['Course'].unique()"
   ]
  },
  {
   "cell_type": "code",
   "execution_count": 9,
   "metadata": {
    "colab": {
     "base_uri": "https://localhost:8080/",
     "height": 458
    },
    "executionInfo": {
     "elapsed": 6,
     "status": "ok",
     "timestamp": 1745339531299,
     "user": {
      "displayName": "Smruti Ranjan",
      "userId": "02421602762441713336"
     },
     "user_tz": -330
    },
    "id": "kqrtExoLVhiO",
    "outputId": "cdf25cbc-58cc-48cc-c77d-59178677050e"
   },
   "outputs": [
    {
     "data": {
      "application/vnd.microsoft.datawrangler.viewer.v0+json": {
       "columns": [
        {
         "name": "index",
         "rawType": "int64",
         "type": "integer"
        },
        {
         "name": "TranslatedIngredients",
         "rawType": "object",
         "type": "unknown"
        }
       ],
       "ref": "63a7704d-1d10-48e8-aad0-afa76a9862aa",
       "rows": [
        [
         "0",
         "6 Karela (Bitter Gourd/ Pavakkai) - deseeded,Salt - to taste,1 Onion - thinly sliced,3 tablespoon Gram flour (besan),2 teaspoons Turmeric powder (Haldi),1 tablespoon Red Chilli powder,2 teaspoons Cumin seeds (Jeera),1 tablespoon Coriander Powder (Dhania),1 tablespoon Amchur (Dry Mango Powder),Sunflower Oil - as required"
        ],
        [
         "1",
         "2-1 / 2 cups rice - cooked, 3 tomatoes, 3 teaspoons BC Belle Bhat powder, salt - as per taste, 1 teaspoon chickpea lentils, 1/2 teaspoon cumin seeds, 1 teaspoon white urad dal, 1/2 Teaspoon mustard, 1 green chilli, 1 dry red chilli, 2 teaspoon cashew - or peanuts, 1-1 / 2 tablespoon oil - 1/2 teaspoon asafoetida"
        ],
        [
         "2",
         "1-1/2 cups Rice Vermicelli Noodles (Thin),1 Onion - sliced,1/2 cup Carrots (Gajjar) - chopped,1/3 cup Green peas (Matar),2 Green Chillies,1/4 teaspoon Asafoetida (hing),1 teaspoon Mustard seeds,1 teaspoon White Urad Dal (Split),1 teaspoon Ghee,1 sprig Curry leaves,Salt - to taste,1 teaspoon Lemon juice"
        ],
        [
         "3",
         "500 grams Chicken,2 Onion - chopped,1 Tomato - chopped,4 Green Chillies - slit,1 inch Ginger - finely chopped,6 cloves Garlic - finely chopped,1/2 teaspoon Turmeric powder (Haldi),1 teaspoon Garam masala powder,2 tablespoon Sesame (Gingelly) Oil,Salt - to taste,1/4 teaspoon Methi Seeds (Fenugreek Seeds),1 tablespoon Coriander (Dhania) Seeds,4 Dry Red Chillies,1 teaspoon Fennel seeds (Saunf),1 teaspoon Sesame (Gingelly) Oil,4 cloves Garlic,2 cups Sorrel Leaves (Gongura) - picked and chopped,Salt - to taste"
        ],
        [
         "4",
         "1 tablespoon chana dal, 1 tablespoon white urad dal, 2 red chillies, 1 tablespoon coriander seeds, 3 inches ginger - chop, 1 onion - chop, 1 tomato - chop, salt - as per taste, 1 Teaspoon mustard, asafoetida - a pinch, oil - as per use, 1 sprig curry"
        ],
        [
         "5",
         "1 cup Rice - soaked for 20 minutes,1/2 cup Yellow Moong Dal (Split) - soaked for 20 minutes,1 cup Mint Leaves (Pudina) - tightly packed,1/4 cup Coriander (Dhania) Leaves - tightly packed,1 Green Chilli,1 inch Ginger,1 teaspoon Cumin seeds (Jeera),5 cups Water,1 teaspoon Sunflower Oil,Salt - to taste,2 tablespoons Ghee,8 Cashew nuts - halved,1 teaspoon Cumin seeds (Jeera),1 teaspoon Whole Black Peppercorns,1 sprig Curry leaves,1 pinch Asafoetida (hing)"
        ],
        [
         "6",
         "500 grams Vellai Poosanikai (Ash gourd/White Pumpkin),1/2 teaspoon Turmeric powder (Haldi),Salt - to taste,Sunflower Oil - for cooking,4 Dry Red Chillies,1/2 cup Fresh coconut - grated,30 grams Tamarind Water,1/2 teaspoon Methi Seeds (Fenugreek Seeds),1/2 teaspoon Cumin seeds (Jeera),2 teaspoons Coriander (Dhania) Seeds,2 teaspoons Sesame seeds (Til seeds),3 tablespoons Jaggery,1 cup Tamarind Water,1 teaspoon Sunflower Oil,1/2 teaspoon Mustard seeds,2 sprig Curry leaves - roughly torn,1 Dry Red Chillies"
        ],
        [
         "7",
         "4 Tortillas,1/4 cup Black beans - soaked overnight and  cooked,6 to 8 Spinach Leaves (Palak),1 Onion - chopped,1 Tomato - chopped,2 cloves Garlic - chopped,2 sprig Coriander (Dhania) Leaves,1 cup Rice - or brown rice,1 Lemon juice,4 Spring Onion Greens - chopped,4 tablespoons Cheddar cheese,4 tablespoon Hung Curd (Greek Yogurt)"
        ],
        [
         "8",
         "10 Idli - cut into strips,1 cup Green Bell Pepper (Capsicum) - thinly sliced,1 cup Tomato - finely chopped,1 cup Onions - finely chopped,2 Green Chillies - finely chopped,1/4 teaspoon Red Chilli powder,1/2 teaspoon Turmeric powder (Haldi),3 tablespoons Tomato Ketchup,Coriander (Dhania) Leaves - to taste,Mint Leaves (Pudina) - to taste,2 teaspoons Sunflower Oil,Salt - to taste"
        ],
        [
         "9",
         "1 cup cabbage leaves, 3/4 cup tomatoes, 18 grams tamarind, 2 tablespoons white urad dal, 4 red chillies, salt - as per taste, asafoetida - a pinch, 3 cloves garlic, turmeric powder - a pinch, 1 big Spoon oil, 1 teaspoon Rye, 1/2 teaspoon Cumin seeds, 1 sprig Curry leaves"
        ],
        [
         "10",
         "250 grams Dry beans - (such as cannellini or soya beans),1 teaspoon Extra Virgin Olive Oil,1 Onion - finely chopped,1 clove Garlic - grated,500 grams Tomatoes - pureed,1 tablespoon Honey - or more to taste,1 teaspoon Cumin powder (Jeera),1 teaspoon Dried oregano,1/4 teaspoon Red Chilli powder - or cayenne pepper,Salt and Pepper - (coarsely pounded pepper) to taste"
        ],
        [
         "11",
         "2 Burger buns,5 Pickled Jalapenos - sliced,2 Cheese Slices,2 Potatoes (Aloo) - pressure cooked,1 Onion - chopped,1 tablespoon Red Chilli powder,Salt - to taste,1 Whole Egg,1/2 cup Whole Wheat Bread crumbs,4 cloves Garlic - chopped,1 Onions - chopped,2 Tomatoes - chopped,1 cup Homemade tomato puree,1 Green Bell Pepper (Capsicum) - chopped,1/2 cup Soy granules,1 tablespoon Red Chilli powder,1 teaspoon Red Chilli flakes,1 tablespoon Cumin powder (Jeera),1 tablespoon Dried oregano,1 tablespoon Tabasco Original - Hot Sauce,1 teaspoon Honey,Salt - to taste,Sunflower Oil"
        ],
        [
         "12",
         "2 cup Tamarind Water,1/2 cup Arhar dal (Split Toor Dal),1 teaspoon Asafoetida (hing),Salt - to taste,1 teaspoon Mustard seeds,1 teaspoon Cumin seeds (Jeera),1 teaspoon Methi Seeds (Fenugreek Seeds),1 sprig Curry leaves,1 pinch Asafoetida (hing),Sunflower Oil - for cooking"
        ],
        [
         "13",
         "600 grams Aar Maach (fish) - rohu/ katla fish (cut into thick steaks),1 Tomato - finely chopped,2 Bay leaves (tej patta),1-1/2 tablespoons Ginger - paste,4 Green Chillies - coarsely crushed,1 teaspoon Cumin powder (Jeera),1 teaspoon Coriander Powder (Dhania),Salt - to taste,1/2 teaspoon Cumin seeds (Jeera),1/2 teaspoon Turmeric powder (Haldi),2 Green Chillies - slit lengthwise,Mustard oil - as required,1-1/4 cups Water - add 2 cups if you like a loose gravy,Sugar - a pinch (optional),1 tablespoon Coriander (Dhania) Leaves - optional"
        ],
        [
         "14",
         "5 Potatoes (Aloo) - halved with skin,2 teaspoon Fennel seeds (Saunf) - crushed,2 teaspoon Red Chilli powder,1 teaspoon Turmeric powder (Haldi),1/4 cup Fresh cream - or 1/2 cup milk,4 sprig Coriander (Dhania) Leaves - finely chopped"
        ],
        [
         "15",
         "2 onions, 1 teaspoon cumin seeds, 2 tablespoons black urad dal (split), 1 tablespoon tamarind paste, 3 dry red chillies, 1/2 teaspoon jaggery, 2 teaspoons oil, salt - 1 teaspoon, as per taste Rye, 1 sprig curry leaves, 1/2 teaspoon oil"
        ],
        [
         "16",
         "4 Whole Eggs - boiled,1 Cinnamon Stick (Dalchini) - small,1 Bay leaf (tej patta),2 Cloves (Laung),1 tablespoon Sunflower Oil,2 teaspoons Coriander Powder (Dhania),1 teaspoon Garam masala powder,2 tablespoons Fresh cream,2 cups Coriander (Dhania) Leaves - tightly packed,1 cup Mint Leaves (Pudina) - chopped,2 Green Chillies - chopped,1 Onion - roughly chopped,1 inch Ginger - chopped,4 cloves Garlic"
        ],
        [
         "17",
         "2 cups curd, 1 cup gourd - peel and tighten, 1 cucumber - peel and grind, 1 green - finely chopped, 1 green coriander - little, 1/2 teaspoon cumin powder, salt - as per taste"
        ],
        [
         "18",
         "10 Potatoes (Aloo),1 teaspoon Garlic powder,1 teaspoon Onion powder,1 teaspoon Dried oregano,1 tablespoon Coriander (Dhania) Leaves - finely chopped,1 teaspoon Red Chilli flakes,2 tablespoon All Purpose Flour (Maida),1 tablespoon Rice flour,Salt - to taste,Sunflower Oil - for deep frying the tater tots"
        ],
        [
         "19",
         "1 cup rice - wash well in water, 12 small onions - finely chopped, 2 cloves garlic - tighten, 1 inch ginger - tighten, 2 green chillies - straight and thin cut, 1 bay leaf - break , 1 tsp red chilli powder, 1 tsp turmeric powder, 1 carrot - chop, 12 green beans - chop, 2 potatoes - peel and chop, ghee - as per use, 2 cloves, 1 inch cinnamon, 1 tsp fennel , 1 tsp whole pepper, 1 tsp coriander seeds, 1/4 cup green peas - steam, 1/4 cup mint leaves - finely chopped"
        ],
        [
         "20",
         "8 amla, 6 small onions, 10 bud garlic, 2 green chillies, 1/2 cup mint, 1/2 cup coriander, salt - as per taste, 1 tsp oil, 1 tsp oil, 1/2 tsp rye, 1/4 tsp urad dal, 1/4 tsp chana dal, 1 sprig curry leaves, 10 cashew nuts"
        ],
        [
         "21",
         "1/2 cup Gram flour (besan),1/2 cup Whole Wheat Flour,1/4 cup Rice flour,1 Cucumber - peeled and grated,1 teaspoon Turmeric powder (Haldi),1 teaspoon Cumin powder (Jeera),1 teaspoon Coriander Powder (Dhania),1 teaspoon Red Chilli powder,2 Green Chillies - finely chopped,1/2 cup Coriander (Dhania) Leaves - chopped,5 cloves Garlic - finely chopped,Salt - to taste,Ghee - for smearing on thalipeeth"
        ],
        [
         "22",
         "2 Submarine Bread (Subway Bread) - (flat breads or foot longs),1/2 cup Green Moong Sprouts,1 Beetroot - grated,2 cloves Garlic - grated,1/2 cup Hung Curd (Greek Yogurt),2 tablespoon Coriander (Dhania) Leaves - finely chopped,2 Tomatoes - thinly sliced,2 Stalks Spring Onion (Bulb & Greens) - finely chopped,Tabasco Original - Hot Sauce - to taste,Salt and Pepper - to taste"
        ],
        [
         "23",
         "5 Drumstick - cut into 3 inch pieces,1/2 cup Fresh coconut - grated,2 Green Chillies - slit,1 sprig Curry leaves,1 teaspoon Mustard seeds,2 teaspoons Coconut Oil,2 Dry Red Chillies,1/2 teaspoon Turmeric powder (Haldi),Salt - to taste,Water - as needed"
        ],
        [
         "24",
         "3/4 cup Mango Pulp (Puree),1 cup Curd (Dahi / Yogurt) - (low fat),1 tablespoon Sugar - or honey,2 pinch Saffron strands,3 tablespoons Badam (Almond) - roughly chopped,3 tablespoons Milk - luke warm+more cold milk as needed,Ice cubes - a few"
        ],
        [
         "25",
         "1 cup idli dosa mixture, 4 tablespoons rice rava, 1/3 cup jaggery, 3 tablespoons coconut - grated, 1 tablespoon of cardamom powder, salt - as per taste, water - as per use, oil - as per use"
        ],
        [
         "26",
         "3 Cardamom (Elaichi) Pods/Seeds,6 Whole Black Peppercorns,1/2 inch Cinnamon Stick (Dalchini),3 cloves Cloves (Laung),1 Mace (Javitri),1 Bay leaf (tej patta),1 Black cardamom (Badi Elaichi),1/2 teaspoon Kasuri Methi (Dried Fenugreek Leaves),1/2 teaspoon Kashmiri Red Chilli Powder,1/2 teaspoon Turmeric powder (Haldi),1 teaspoon Coriander Powder (Dhania),1/2 teaspoon Garam masala powder,6 Samosas - mini,15 Cashew nuts,1 Green Chilli,1 Onion - roughly chopped,2 Tomato - roughly chopped,1/2 inch Ginger,1/2 teaspoon Sugar,1 tablespoon Fresh cream,2 tablespoons Sunflower Oil"
        ],
        [
         "27",
         "1 Baguette - sliced,1 1/2 tablespoon Butter,1/2 tablespoon Garlic - minced,1 cup Spinach Leaves (Palak),1 Red Bell pepper (Capsicum) - (optional,1 Tomato - finely chopped,1 Onion - finely chopped (optional),1 tablespoon Black pepper powder - adjust,1 tablespoon Italian seasoning,1 teaspoon Fresh cream,1 cup Cheddar cheese - grated,Salt - to taste,1 tablespoon Roasted tomato pasta sauce"
        ],
        [
         "28",
         "1 cup Whole Wheat Flour,1 cup All Purpose Flour (Maida),1 teaspoon Ajwain (Carom seeds),1 teaspoon Cumin seeds (Jeera),2 tablespoons Ghee,Salt - as needed,Sunflower Oil - for deep frying,1 cup Chana dal (Bengal Gram Dal),1/2 teaspoon Turmeric powder (Haldi),1/2 teaspoon Garam masala powder,1/4 teaspoon Red Chilli powder,1 teaspoon Amchur (Dry Mango Powder),1/2 teaspoon Sugar,Salt - as needed,1 tablespoon Ghee,1/4 teaspoon Asafoetida (hing),1 teaspoon Cumin seeds (Jeera),2 Green Chillies - slit,1 sprig Curry leaves,1/4 cup Sweet Chutney (Date & Tamarind),1/4 cup Green Chutney (Coriander & Mint),1 Onion - finely chopped,1/2 cup Fresh Pomegranate Fruit Kernels,1/4 cup Sev"
        ],
        [
         "29",
         "300 grams Green beans (French Beans) - cut into half,3 cloves Garlic - finely chopped,1 tablespoon Soy sauce,2 tablespoons Thai Sweet Chilli Sauce,1 Lemon - juice,2 tablespoons Rice Wine Vinegar,1/4 cup Roasted Peanuts (Moongphali),Salt - to taste,1 tablespoon Sesame (Gingelly) Oil"
        ],
        [
         "30",
         "1 tablespoon Sunflower Oil,All Purpose Flour (Maida),1/4 teaspoon Baking powder,Water - to make the dough,Sunflower Oil - to deep fry,2 tablespoons Honey,2 tablespoon Sugar,1 tablespoon Sesame seeds (Til seeds) - white,2 tablespoons Water,1/2 teaspoon Vanilla Extract"
        ],
        [
         "31",
         "1/2 cup Sundkai, 1/4 cup fenugreek, 1/2 cup Arhar dal - boiled and mashed, 1/2 Tomato, 1 Tamarind, 1/2 tsp Turmeric Powder, 2 tsp Sambar Powder, 1 tsp Coriander Powder, 1/2 teaspoon mustard, 1/4 teaspoon cumin seeds, 1 dry red chili, 1/4 teaspoon asafoetida, oil - as per use, salt - as per taste, curry leaves - little, green coriander - little, water - According to use"
        ],
        [
         "32",
         "1 cup Cabbage (Patta Gobi/ Muttaikose) - shredded,1 cup Spinach - shredded,1 cup Fresh Pomegranate Fruit Kernels,2 Lemon juice,2 tablespoons Extra Virgin Olive Oil,Salt and Pepper - to taste"
        ],
        [
         "33",
         "1 cup All Purpose Flour (Maida),2 tablespoons Ghee,1/2 teaspoon Salt,Sunflower Oil - for deep frying,2 tablespoons Ghee,1 teaspoon Cumin seeds (Jeera),1 teaspoon Green Chilli Sauce,1/2 teaspoon Cinnamon Powder (Dalchini),1/2 teaspoon Garam masala powder,1/4 teaspoon Red Chilli powder,2 teaspoon Amchur (Dry Mango Powder),1-1/2 cups Green peas (Matar) - steamed and mashed,Salt - to taste,2 teaspoon All Purpose Flour (Maida),1/4 cup Water"
        ],
        [
         "34",
         "1 cup All Purpose Flour (Maida),1/2 cup Sugar,1 cup Dark chocolate,1/2 cup Cocoa Powder,1/2 cup Salted butter,3/4 cup Milk,1/2 tablespoon Baking powder,1/2 teaspoon Baking soda,1/2 tablespoon Vanilla Extract,1 cup Britannia Cream Cheese,3/4 cup Caster Sugar,1 teaspoon Vanilla Extract,8 Fresh raspberries"
        ],
        [
         "35",
         "1 cup Ada,2 liter Milk - full cream,3/4 cup Sugar,1 tablespoon Ghee,1/2 teaspoon Cardamom Powder (Elaichi)"
        ],
        [
         "36",
         "1 cup Tindora (Dondakaya/ Kovakkai) - finely chopped,1 teaspoon Red Chilli powder,1/4 teaspoon Split Methi Seeds (Methi Kuria),1/2 teaspoon Split Mustard Seeds (Rai Kuria),1/4 teaspoon Turmeric powder (Haldi),1/4 teaspoon Asafoetida (hing),1 tablespoon Sunflower Oil,Lemon - juice extracted,Salt - to taste"
        ],
        [
         "37",
         "1 Chicken legs,1/4 cup Hung Curd (Greek Yogurt),1/2 teaspoon Turmeric powder (Haldi),Salt - to taste,1 teaspoon Sunflower Oil,1 Onion - sliced,4 cloves Garlic,1/2 inch Ginger,2 tablespoon Fresh coconut - grated,2 teaspoon Cumin seeds (Jeera),2 teaspoons Coriander (Dhania) Seeds,1/4 teaspoon Methi Seeds (Fenugreek Seeds),1/4 teaspoon Kalonji (Onion Nigella Seeds),1 teaspoon Whole Black Peppercorns,2 Dry Red Chillies,1 teaspoon Fennel seeds (Saunf),1/2 inch Cinnamon Stick (Dalchini),2 Cloves (Laung),1 Cardamom (Elaichi) Pods/Seeds,1/2 teaspoon Mustard seeds,1 tablespoon Ghee,1 teaspoon Tamarind Paste,1 teaspoon Jaggery,1 teaspoon Ghee,1/2 teaspoon Mustard seeds,1 sprig Curry leaves,4 cloves Garlic"
        ],
        [
         "38",
         "1 cup Jackfruit Seeds (Kathal),1 cup Tamarind Water,8 cloves Garlic,1/2 teaspoon Mustard seeds,1/2 teaspoon Cumin seeds (Jeera),8 Curry leaves,1/4 teaspoon Turmeric powder (Haldi),1/2 teaspoon Red Chilli powder,2 teaspoons Sambar Powder,1/4 teaspoon Asafoetida (hing),Coriander (Dhania) Leaves - small bunch,Salt - to taste,2 teaspoons Sunflower Oil,1/2 cup Fresh coconut,10 Whole Black Peppercorns,2 Dry Red Chillies,1 Onion - chopped,1 Tomato - chopped,1 teaspoon Coriander (Dhania) Seeds,1 teaspoon Sunflower Oil"
        ],
        [
         "39",
         "1 eggplant, 2 inch ginger - peel and tighten, 1 onion - finely chopped, 1 tomato - chopped, 2 green chillies - finely chopped, 1 teaspoon turmeric powder, 1 teaspoon garam masala powder, 1 teaspoon coriander powder , 1 tablespoon butter, 1 teaspoon red chili powder, salt - as per taste, 1 tablespoon oil, 2 sprigs of coriander - finely chopped (for garnish)"
        ],
        [
         "40",
         "2 cups Water,1 teaspoon Tea leaves,1/4 cup Milk,10 Saffron strands - or more"
        ],
        [
         "41",
         "1 raw mango - chop big, 1 cup tamarind water, 1 tablespoon jaggery, 1 tablespoon sambar powder, 1 teaspoon turmeric powder, 1/2 teaspoon salt, 1 teaspoon mustard, asafoetida - a pinch, 1 Sprig Curry leaves, 2 dry red chillies, oil - as per use"
        ],
        [
         "42",
         "10 Jackfruit Seeds (Kathal),1 cup Kala Chana (Brown Chickpeas) - soaked overnight,1 teaspoon Mustard seeds,1/2 teaspoon Cumin seeds (Jeera),1 sprig Curry leaves,1 Tomato - chopped,1/2 cup Tamarind Water,1 teaspoon Turmeric powder (Haldi),4 Dry Red Chillies,1 teaspoon Cumin seeds (Jeera),1 teaspoon Coriander (Dhania) Seeds,2 Cloves (Laung),1 inch Cinnamon Stick (Dalchini),1/2 cup Fresh coconut,1 inch Ginger,4 cloves Garlic"
        ],
        [
         "43",
         "1 cup Whole Wheat Flour,1 pinch Salt,1 teaspoon Italian seasoning,1/4 cup Cheese spread - flavoured,1 Broccoli - cut into florets,1 Onion - thinly sliced,1 Red Bell pepper (Capsicum) - diced,Salt - to taste,2 sprig Parsley leaves - roughly chopped"
        ],
        [
         "44",
         "2 cups Makki Ka Atta (Yellow Corn Meal Flour),1 1/2 cups Methi Leaves (Fenugreek Leaves) - chopped,2 Green Chillies - chopped,1 tablespoon Ajwain (Carom seeds),1 tablespoon Kashmiri Red Chilli Powder,Salt - to taste"
        ],
        [
         "45",
         "3 Carrots (Gajjar) - grated,3 cups Cabbage (Patta Gobi/ Muttaikose) - shredded,1 Green Bell Pepper (Capsicum) - thinly sliced,1/2 teaspoon Turmeric powder (Haldi),1 teaspoon Sugar,1 teaspoon Lemon juice,Salt - to taste,1 teaspoon Sunflower Oil,1 teaspoon Mustard seeds,1/4 teaspoon Asafoetida (hing),1 sprig Curry leaves,3 Green Chillies - slit lengthwise"
        ],
        [
         "46",
         "1-1/2 cups All Purpose Flour (Maida),1-1/2 cups Whole Wheat Flour,2 teaspoons Active dry yeast,1/2 teaspoons Salt,1-1/2 teaspoons Sugar,1-1/4 cups Lukewarm Water,2 tablespoons Extra Virgin Olive Oil"
        ],
        [
         "47",
         "1 kg Tomatoes,8 Dry Red Chillies - adjustable,1 teaspoon Tamarind Paste,2 teaspoons Red Chilli powder - optional,1/2 teaspoon Turmeric powder (Haldi),1 tablespoon Mustard seeds,1 teaspoon Methi Seeds (Fenugreek Seeds),8 cloves Garlic,Sunflower Oil,Salt - to taste"
        ],
        [
         "48",
         "1-1 / 2 cup brown rice, 2 onions - finely chopped, 4 long garlic - finely chopped, 3 tsp oregano, 3 tsp rosemary, 4 tsp red chilli flakes, salt - as per taste, oil, water - According to use"
        ],
        [
         "49",
         "3 cups Mango (Ripe) - cut into pieces,1/4 cup Water,Sugar - optional"
        ]
       ],
       "shape": {
        "columns": 1,
        "rows": 6871
       }
      },
      "text/plain": [
       "0       6 Karela (Bitter Gourd/ Pavakkai) - deseeded,S...\n",
       "1       2-1 / 2 cups rice - cooked, 3 tomatoes, 3 teas...\n",
       "2       1-1/2 cups Rice Vermicelli Noodles (Thin),1 On...\n",
       "3       500 grams Chicken,2 Onion - chopped,1 Tomato -...\n",
       "4       1 tablespoon chana dal, 1 tablespoon white ura...\n",
       "                              ...                        \n",
       "6866    20 बटन मशरुम,2 प्याज - काट ले,1 टमाटर - बारीक ...\n",
       "6867    1 बड़ा चम्मच तेल,1 कप गेहूं का आटा,नमक - स्वाद ...\n",
       "6868    150 grams Spring Onion (Bulb & Greens) - chopp...\n",
       "6869    1 kg Chicken - medium pieces,1/2 cup Mustard o...\n",
       "6870    2 बड़े चम्मच हरी मूंग दाल,2 बड़े चम्मच सफ़ेद उरद ...\n",
       "Name: TranslatedIngredients, Length: 6871, dtype: object"
      ]
     },
     "execution_count": 9,
     "metadata": {},
     "output_type": "execute_result"
    }
   ],
   "source": [
    "pd.set_option('display.max_columns', None)\n",
    "df['TranslatedIngredients']"
   ]
  },
  {
   "cell_type": "code",
   "execution_count": 10,
   "metadata": {
    "executionInfo": {
     "elapsed": 23,
     "status": "ok",
     "timestamp": 1745339532254,
     "user": {
      "displayName": "Smruti Ranjan",
      "userId": "02421602762441713336"
     },
     "user_tz": -330
    },
    "id": "nW1xvBEKVhiP"
   },
   "outputs": [],
   "source": [
    "import re\n",
    "non_english_pattern = re.compile(r'[^\\x00-\\x7F]+')\n",
    "mask = df['TranslatedIngredients'].str.contains(non_english_pattern,na=False)\n",
    "\n",
    "df_english = df[~mask]\n",
    "\n"
   ]
  },
  {
   "cell_type": "code",
   "execution_count": 11,
   "metadata": {
    "colab": {
     "base_uri": "https://localhost:8080/"
    },
    "executionInfo": {
     "elapsed": 16,
     "status": "ok",
     "timestamp": 1745339532971,
     "user": {
      "displayName": "Smruti Ranjan",
      "userId": "02421602762441713336"
     },
     "user_tz": -330
    },
    "id": "BGuW6xrsVhiQ",
    "outputId": "7aceba2a-cd17-4f31-d7d9-adaa026ea011"
   },
   "outputs": [
    {
     "name": "stdout",
     "output_type": "stream",
     "text": [
      "<class 'pandas.core.frame.DataFrame'>\n",
      "Index: 6179 entries, 0 to 6869\n",
      "Data columns (total 15 columns):\n",
      " #   Column                  Non-Null Count  Dtype \n",
      "---  ------                  --------------  ----- \n",
      " 0   Srno                    6179 non-null   int64 \n",
      " 1   RecipeName              6179 non-null   object\n",
      " 2   TranslatedRecipeName    6179 non-null   object\n",
      " 3   Ingredients             6173 non-null   object\n",
      " 4   TranslatedIngredients   6173 non-null   object\n",
      " 5   PrepTimeInMins          6179 non-null   int64 \n",
      " 6   CookTimeInMins          6179 non-null   int64 \n",
      " 7   TotalTimeInMins         6179 non-null   int64 \n",
      " 8   Servings                6179 non-null   int64 \n",
      " 9   Cuisine                 6179 non-null   object\n",
      " 10  Course                  6179 non-null   object\n",
      " 11  Diet                    6179 non-null   object\n",
      " 12  Instructions            6179 non-null   object\n",
      " 13  TranslatedInstructions  6179 non-null   object\n",
      " 14  URL                     6179 non-null   object\n",
      "dtypes: int64(5), object(10)\n",
      "memory usage: 772.4+ KB\n"
     ]
    }
   ],
   "source": [
    "df_english.info()"
   ]
  },
  {
   "cell_type": "code",
   "execution_count": 12,
   "metadata": {
    "colab": {
     "base_uri": "https://localhost:8080/",
     "height": 458
    },
    "executionInfo": {
     "elapsed": 13,
     "status": "ok",
     "timestamp": 1745339538087,
     "user": {
      "displayName": "Smruti Ranjan",
      "userId": "02421602762441713336"
     },
     "user_tz": -330
    },
    "id": "rPRw4V84VhiR",
    "outputId": "6d10a856-454e-4f5f-8b2f-6f649ca9bd9d"
   },
   "outputs": [
    {
     "data": {
      "application/vnd.microsoft.datawrangler.viewer.v0+json": {
       "columns": [
        {
         "name": "index",
         "rawType": "int64",
         "type": "integer"
        },
        {
         "name": "TranslatedIngredients",
         "rawType": "object",
         "type": "unknown"
        }
       ],
       "ref": "5a1d34ba-1caf-46ff-b771-12ab65284dda",
       "rows": [
        [
         "0",
         "6 Karela (Bitter Gourd/ Pavakkai) - deseeded,Salt - to taste,1 Onion - thinly sliced,3 tablespoon Gram flour (besan),2 teaspoons Turmeric powder (Haldi),1 tablespoon Red Chilli powder,2 teaspoons Cumin seeds (Jeera),1 tablespoon Coriander Powder (Dhania),1 tablespoon Amchur (Dry Mango Powder),Sunflower Oil - as required"
        ],
        [
         "1",
         "2-1 / 2 cups rice - cooked, 3 tomatoes, 3 teaspoons BC Belle Bhat powder, salt - as per taste, 1 teaspoon chickpea lentils, 1/2 teaspoon cumin seeds, 1 teaspoon white urad dal, 1/2 Teaspoon mustard, 1 green chilli, 1 dry red chilli, 2 teaspoon cashew - or peanuts, 1-1 / 2 tablespoon oil - 1/2 teaspoon asafoetida"
        ],
        [
         "2",
         "1-1/2 cups Rice Vermicelli Noodles (Thin),1 Onion - sliced,1/2 cup Carrots (Gajjar) - chopped,1/3 cup Green peas (Matar),2 Green Chillies,1/4 teaspoon Asafoetida (hing),1 teaspoon Mustard seeds,1 teaspoon White Urad Dal (Split),1 teaspoon Ghee,1 sprig Curry leaves,Salt - to taste,1 teaspoon Lemon juice"
        ],
        [
         "3",
         "500 grams Chicken,2 Onion - chopped,1 Tomato - chopped,4 Green Chillies - slit,1 inch Ginger - finely chopped,6 cloves Garlic - finely chopped,1/2 teaspoon Turmeric powder (Haldi),1 teaspoon Garam masala powder,2 tablespoon Sesame (Gingelly) Oil,Salt - to taste,1/4 teaspoon Methi Seeds (Fenugreek Seeds),1 tablespoon Coriander (Dhania) Seeds,4 Dry Red Chillies,1 teaspoon Fennel seeds (Saunf),1 teaspoon Sesame (Gingelly) Oil,4 cloves Garlic,2 cups Sorrel Leaves (Gongura) - picked and chopped,Salt - to taste"
        ],
        [
         "4",
         "1 tablespoon chana dal, 1 tablespoon white urad dal, 2 red chillies, 1 tablespoon coriander seeds, 3 inches ginger - chop, 1 onion - chop, 1 tomato - chop, salt - as per taste, 1 Teaspoon mustard, asafoetida - a pinch, oil - as per use, 1 sprig curry"
        ],
        [
         "5",
         "1 cup Rice - soaked for 20 minutes,1/2 cup Yellow Moong Dal (Split) - soaked for 20 minutes,1 cup Mint Leaves (Pudina) - tightly packed,1/4 cup Coriander (Dhania) Leaves - tightly packed,1 Green Chilli,1 inch Ginger,1 teaspoon Cumin seeds (Jeera),5 cups Water,1 teaspoon Sunflower Oil,Salt - to taste,2 tablespoons Ghee,8 Cashew nuts - halved,1 teaspoon Cumin seeds (Jeera),1 teaspoon Whole Black Peppercorns,1 sprig Curry leaves,1 pinch Asafoetida (hing)"
        ],
        [
         "6",
         "500 grams Vellai Poosanikai (Ash gourd/White Pumpkin),1/2 teaspoon Turmeric powder (Haldi),Salt - to taste,Sunflower Oil - for cooking,4 Dry Red Chillies,1/2 cup Fresh coconut - grated,30 grams Tamarind Water,1/2 teaspoon Methi Seeds (Fenugreek Seeds),1/2 teaspoon Cumin seeds (Jeera),2 teaspoons Coriander (Dhania) Seeds,2 teaspoons Sesame seeds (Til seeds),3 tablespoons Jaggery,1 cup Tamarind Water,1 teaspoon Sunflower Oil,1/2 teaspoon Mustard seeds,2 sprig Curry leaves - roughly torn,1 Dry Red Chillies"
        ],
        [
         "7",
         "4 Tortillas,1/4 cup Black beans - soaked overnight and  cooked,6 to 8 Spinach Leaves (Palak),1 Onion - chopped,1 Tomato - chopped,2 cloves Garlic - chopped,2 sprig Coriander (Dhania) Leaves,1 cup Rice - or brown rice,1 Lemon juice,4 Spring Onion Greens - chopped,4 tablespoons Cheddar cheese,4 tablespoon Hung Curd (Greek Yogurt)"
        ],
        [
         "8",
         "10 Idli - cut into strips,1 cup Green Bell Pepper (Capsicum) - thinly sliced,1 cup Tomato - finely chopped,1 cup Onions - finely chopped,2 Green Chillies - finely chopped,1/4 teaspoon Red Chilli powder,1/2 teaspoon Turmeric powder (Haldi),3 tablespoons Tomato Ketchup,Coriander (Dhania) Leaves - to taste,Mint Leaves (Pudina) - to taste,2 teaspoons Sunflower Oil,Salt - to taste"
        ],
        [
         "9",
         "1 cup cabbage leaves, 3/4 cup tomatoes, 18 grams tamarind, 2 tablespoons white urad dal, 4 red chillies, salt - as per taste, asafoetida - a pinch, 3 cloves garlic, turmeric powder - a pinch, 1 big Spoon oil, 1 teaspoon Rye, 1/2 teaspoon Cumin seeds, 1 sprig Curry leaves"
        ],
        [
         "10",
         "250 grams Dry beans - (such as cannellini or soya beans),1 teaspoon Extra Virgin Olive Oil,1 Onion - finely chopped,1 clove Garlic - grated,500 grams Tomatoes - pureed,1 tablespoon Honey - or more to taste,1 teaspoon Cumin powder (Jeera),1 teaspoon Dried oregano,1/4 teaspoon Red Chilli powder - or cayenne pepper,Salt and Pepper - (coarsely pounded pepper) to taste"
        ],
        [
         "11",
         "2 Burger buns,5 Pickled Jalapenos - sliced,2 Cheese Slices,2 Potatoes (Aloo) - pressure cooked,1 Onion - chopped,1 tablespoon Red Chilli powder,Salt - to taste,1 Whole Egg,1/2 cup Whole Wheat Bread crumbs,4 cloves Garlic - chopped,1 Onions - chopped,2 Tomatoes - chopped,1 cup Homemade tomato puree,1 Green Bell Pepper (Capsicum) - chopped,1/2 cup Soy granules,1 tablespoon Red Chilli powder,1 teaspoon Red Chilli flakes,1 tablespoon Cumin powder (Jeera),1 tablespoon Dried oregano,1 tablespoon Tabasco Original - Hot Sauce,1 teaspoon Honey,Salt - to taste,Sunflower Oil"
        ],
        [
         "12",
         "2 cup Tamarind Water,1/2 cup Arhar dal (Split Toor Dal),1 teaspoon Asafoetida (hing),Salt - to taste,1 teaspoon Mustard seeds,1 teaspoon Cumin seeds (Jeera),1 teaspoon Methi Seeds (Fenugreek Seeds),1 sprig Curry leaves,1 pinch Asafoetida (hing),Sunflower Oil - for cooking"
        ],
        [
         "13",
         "600 grams Aar Maach (fish) - rohu/ katla fish (cut into thick steaks),1 Tomato - finely chopped,2 Bay leaves (tej patta),1-1/2 tablespoons Ginger - paste,4 Green Chillies - coarsely crushed,1 teaspoon Cumin powder (Jeera),1 teaspoon Coriander Powder (Dhania),Salt - to taste,1/2 teaspoon Cumin seeds (Jeera),1/2 teaspoon Turmeric powder (Haldi),2 Green Chillies - slit lengthwise,Mustard oil - as required,1-1/4 cups Water - add 2 cups if you like a loose gravy,Sugar - a pinch (optional),1 tablespoon Coriander (Dhania) Leaves - optional"
        ],
        [
         "14",
         "5 Potatoes (Aloo) - halved with skin,2 teaspoon Fennel seeds (Saunf) - crushed,2 teaspoon Red Chilli powder,1 teaspoon Turmeric powder (Haldi),1/4 cup Fresh cream - or 1/2 cup milk,4 sprig Coriander (Dhania) Leaves - finely chopped"
        ],
        [
         "15",
         "2 onions, 1 teaspoon cumin seeds, 2 tablespoons black urad dal (split), 1 tablespoon tamarind paste, 3 dry red chillies, 1/2 teaspoon jaggery, 2 teaspoons oil, salt - 1 teaspoon, as per taste Rye, 1 sprig curry leaves, 1/2 teaspoon oil"
        ],
        [
         "16",
         "4 Whole Eggs - boiled,1 Cinnamon Stick (Dalchini) - small,1 Bay leaf (tej patta),2 Cloves (Laung),1 tablespoon Sunflower Oil,2 teaspoons Coriander Powder (Dhania),1 teaspoon Garam masala powder,2 tablespoons Fresh cream,2 cups Coriander (Dhania) Leaves - tightly packed,1 cup Mint Leaves (Pudina) - chopped,2 Green Chillies - chopped,1 Onion - roughly chopped,1 inch Ginger - chopped,4 cloves Garlic"
        ],
        [
         "17",
         "2 cups curd, 1 cup gourd - peel and tighten, 1 cucumber - peel and grind, 1 green - finely chopped, 1 green coriander - little, 1/2 teaspoon cumin powder, salt - as per taste"
        ],
        [
         "18",
         "10 Potatoes (Aloo),1 teaspoon Garlic powder,1 teaspoon Onion powder,1 teaspoon Dried oregano,1 tablespoon Coriander (Dhania) Leaves - finely chopped,1 teaspoon Red Chilli flakes,2 tablespoon All Purpose Flour (Maida),1 tablespoon Rice flour,Salt - to taste,Sunflower Oil - for deep frying the tater tots"
        ],
        [
         "19",
         "1 cup rice - wash well in water, 12 small onions - finely chopped, 2 cloves garlic - tighten, 1 inch ginger - tighten, 2 green chillies - straight and thin cut, 1 bay leaf - break , 1 tsp red chilli powder, 1 tsp turmeric powder, 1 carrot - chop, 12 green beans - chop, 2 potatoes - peel and chop, ghee - as per use, 2 cloves, 1 inch cinnamon, 1 tsp fennel , 1 tsp whole pepper, 1 tsp coriander seeds, 1/4 cup green peas - steam, 1/4 cup mint leaves - finely chopped"
        ],
        [
         "20",
         "8 amla, 6 small onions, 10 bud garlic, 2 green chillies, 1/2 cup mint, 1/2 cup coriander, salt - as per taste, 1 tsp oil, 1 tsp oil, 1/2 tsp rye, 1/4 tsp urad dal, 1/4 tsp chana dal, 1 sprig curry leaves, 10 cashew nuts"
        ],
        [
         "21",
         "1/2 cup Gram flour (besan),1/2 cup Whole Wheat Flour,1/4 cup Rice flour,1 Cucumber - peeled and grated,1 teaspoon Turmeric powder (Haldi),1 teaspoon Cumin powder (Jeera),1 teaspoon Coriander Powder (Dhania),1 teaspoon Red Chilli powder,2 Green Chillies - finely chopped,1/2 cup Coriander (Dhania) Leaves - chopped,5 cloves Garlic - finely chopped,Salt - to taste,Ghee - for smearing on thalipeeth"
        ],
        [
         "23",
         "5 Drumstick - cut into 3 inch pieces,1/2 cup Fresh coconut - grated,2 Green Chillies - slit,1 sprig Curry leaves,1 teaspoon Mustard seeds,2 teaspoons Coconut Oil,2 Dry Red Chillies,1/2 teaspoon Turmeric powder (Haldi),Salt - to taste,Water - as needed"
        ],
        [
         "24",
         "3/4 cup Mango Pulp (Puree),1 cup Curd (Dahi / Yogurt) - (low fat),1 tablespoon Sugar - or honey,2 pinch Saffron strands,3 tablespoons Badam (Almond) - roughly chopped,3 tablespoons Milk - luke warm+more cold milk as needed,Ice cubes - a few"
        ],
        [
         "25",
         "1 cup idli dosa mixture, 4 tablespoons rice rava, 1/3 cup jaggery, 3 tablespoons coconut - grated, 1 tablespoon of cardamom powder, salt - as per taste, water - as per use, oil - as per use"
        ],
        [
         "26",
         "3 Cardamom (Elaichi) Pods/Seeds,6 Whole Black Peppercorns,1/2 inch Cinnamon Stick (Dalchini),3 cloves Cloves (Laung),1 Mace (Javitri),1 Bay leaf (tej patta),1 Black cardamom (Badi Elaichi),1/2 teaspoon Kasuri Methi (Dried Fenugreek Leaves),1/2 teaspoon Kashmiri Red Chilli Powder,1/2 teaspoon Turmeric powder (Haldi),1 teaspoon Coriander Powder (Dhania),1/2 teaspoon Garam masala powder,6 Samosas - mini,15 Cashew nuts,1 Green Chilli,1 Onion - roughly chopped,2 Tomato - roughly chopped,1/2 inch Ginger,1/2 teaspoon Sugar,1 tablespoon Fresh cream,2 tablespoons Sunflower Oil"
        ],
        [
         "27",
         "1 Baguette - sliced,1 1/2 tablespoon Butter,1/2 tablespoon Garlic - minced,1 cup Spinach Leaves (Palak),1 Red Bell pepper (Capsicum) - (optional,1 Tomato - finely chopped,1 Onion - finely chopped (optional),1 tablespoon Black pepper powder - adjust,1 tablespoon Italian seasoning,1 teaspoon Fresh cream,1 cup Cheddar cheese - grated,Salt - to taste,1 tablespoon Roasted tomato pasta sauce"
        ],
        [
         "28",
         "1 cup Whole Wheat Flour,1 cup All Purpose Flour (Maida),1 teaspoon Ajwain (Carom seeds),1 teaspoon Cumin seeds (Jeera),2 tablespoons Ghee,Salt - as needed,Sunflower Oil - for deep frying,1 cup Chana dal (Bengal Gram Dal),1/2 teaspoon Turmeric powder (Haldi),1/2 teaspoon Garam masala powder,1/4 teaspoon Red Chilli powder,1 teaspoon Amchur (Dry Mango Powder),1/2 teaspoon Sugar,Salt - as needed,1 tablespoon Ghee,1/4 teaspoon Asafoetida (hing),1 teaspoon Cumin seeds (Jeera),2 Green Chillies - slit,1 sprig Curry leaves,1/4 cup Sweet Chutney (Date & Tamarind),1/4 cup Green Chutney (Coriander & Mint),1 Onion - finely chopped,1/2 cup Fresh Pomegranate Fruit Kernels,1/4 cup Sev"
        ],
        [
         "29",
         "300 grams Green beans (French Beans) - cut into half,3 cloves Garlic - finely chopped,1 tablespoon Soy sauce,2 tablespoons Thai Sweet Chilli Sauce,1 Lemon - juice,2 tablespoons Rice Wine Vinegar,1/4 cup Roasted Peanuts (Moongphali),Salt - to taste,1 tablespoon Sesame (Gingelly) Oil"
        ],
        [
         "30",
         "1 tablespoon Sunflower Oil,All Purpose Flour (Maida),1/4 teaspoon Baking powder,Water - to make the dough,Sunflower Oil - to deep fry,2 tablespoons Honey,2 tablespoon Sugar,1 tablespoon Sesame seeds (Til seeds) - white,2 tablespoons Water,1/2 teaspoon Vanilla Extract"
        ],
        [
         "31",
         "1/2 cup Sundkai, 1/4 cup fenugreek, 1/2 cup Arhar dal - boiled and mashed, 1/2 Tomato, 1 Tamarind, 1/2 tsp Turmeric Powder, 2 tsp Sambar Powder, 1 tsp Coriander Powder, 1/2 teaspoon mustard, 1/4 teaspoon cumin seeds, 1 dry red chili, 1/4 teaspoon asafoetida, oil - as per use, salt - as per taste, curry leaves - little, green coriander - little, water - According to use"
        ],
        [
         "32",
         "1 cup Cabbage (Patta Gobi/ Muttaikose) - shredded,1 cup Spinach - shredded,1 cup Fresh Pomegranate Fruit Kernels,2 Lemon juice,2 tablespoons Extra Virgin Olive Oil,Salt and Pepper - to taste"
        ],
        [
         "33",
         "1 cup All Purpose Flour (Maida),2 tablespoons Ghee,1/2 teaspoon Salt,Sunflower Oil - for deep frying,2 tablespoons Ghee,1 teaspoon Cumin seeds (Jeera),1 teaspoon Green Chilli Sauce,1/2 teaspoon Cinnamon Powder (Dalchini),1/2 teaspoon Garam masala powder,1/4 teaspoon Red Chilli powder,2 teaspoon Amchur (Dry Mango Powder),1-1/2 cups Green peas (Matar) - steamed and mashed,Salt - to taste,2 teaspoon All Purpose Flour (Maida),1/4 cup Water"
        ],
        [
         "34",
         "1 cup All Purpose Flour (Maida),1/2 cup Sugar,1 cup Dark chocolate,1/2 cup Cocoa Powder,1/2 cup Salted butter,3/4 cup Milk,1/2 tablespoon Baking powder,1/2 teaspoon Baking soda,1/2 tablespoon Vanilla Extract,1 cup Britannia Cream Cheese,3/4 cup Caster Sugar,1 teaspoon Vanilla Extract,8 Fresh raspberries"
        ],
        [
         "35",
         "1 cup Ada,2 liter Milk - full cream,3/4 cup Sugar,1 tablespoon Ghee,1/2 teaspoon Cardamom Powder (Elaichi)"
        ],
        [
         "36",
         "1 cup Tindora (Dondakaya/ Kovakkai) - finely chopped,1 teaspoon Red Chilli powder,1/4 teaspoon Split Methi Seeds (Methi Kuria),1/2 teaspoon Split Mustard Seeds (Rai Kuria),1/4 teaspoon Turmeric powder (Haldi),1/4 teaspoon Asafoetida (hing),1 tablespoon Sunflower Oil,Lemon - juice extracted,Salt - to taste"
        ],
        [
         "37",
         "1 Chicken legs,1/4 cup Hung Curd (Greek Yogurt),1/2 teaspoon Turmeric powder (Haldi),Salt - to taste,1 teaspoon Sunflower Oil,1 Onion - sliced,4 cloves Garlic,1/2 inch Ginger,2 tablespoon Fresh coconut - grated,2 teaspoon Cumin seeds (Jeera),2 teaspoons Coriander (Dhania) Seeds,1/4 teaspoon Methi Seeds (Fenugreek Seeds),1/4 teaspoon Kalonji (Onion Nigella Seeds),1 teaspoon Whole Black Peppercorns,2 Dry Red Chillies,1 teaspoon Fennel seeds (Saunf),1/2 inch Cinnamon Stick (Dalchini),2 Cloves (Laung),1 Cardamom (Elaichi) Pods/Seeds,1/2 teaspoon Mustard seeds,1 tablespoon Ghee,1 teaspoon Tamarind Paste,1 teaspoon Jaggery,1 teaspoon Ghee,1/2 teaspoon Mustard seeds,1 sprig Curry leaves,4 cloves Garlic"
        ],
        [
         "38",
         "1 cup Jackfruit Seeds (Kathal),1 cup Tamarind Water,8 cloves Garlic,1/2 teaspoon Mustard seeds,1/2 teaspoon Cumin seeds (Jeera),8 Curry leaves,1/4 teaspoon Turmeric powder (Haldi),1/2 teaspoon Red Chilli powder,2 teaspoons Sambar Powder,1/4 teaspoon Asafoetida (hing),Coriander (Dhania) Leaves - small bunch,Salt - to taste,2 teaspoons Sunflower Oil,1/2 cup Fresh coconut,10 Whole Black Peppercorns,2 Dry Red Chillies,1 Onion - chopped,1 Tomato - chopped,1 teaspoon Coriander (Dhania) Seeds,1 teaspoon Sunflower Oil"
        ],
        [
         "39",
         "1 eggplant, 2 inch ginger - peel and tighten, 1 onion - finely chopped, 1 tomato - chopped, 2 green chillies - finely chopped, 1 teaspoon turmeric powder, 1 teaspoon garam masala powder, 1 teaspoon coriander powder , 1 tablespoon butter, 1 teaspoon red chili powder, salt - as per taste, 1 tablespoon oil, 2 sprigs of coriander - finely chopped (for garnish)"
        ],
        [
         "40",
         "2 cups Water,1 teaspoon Tea leaves,1/4 cup Milk,10 Saffron strands - or more"
        ],
        [
         "41",
         "1 raw mango - chop big, 1 cup tamarind water, 1 tablespoon jaggery, 1 tablespoon sambar powder, 1 teaspoon turmeric powder, 1/2 teaspoon salt, 1 teaspoon mustard, asafoetida - a pinch, 1 Sprig Curry leaves, 2 dry red chillies, oil - as per use"
        ],
        [
         "42",
         "10 Jackfruit Seeds (Kathal),1 cup Kala Chana (Brown Chickpeas) - soaked overnight,1 teaspoon Mustard seeds,1/2 teaspoon Cumin seeds (Jeera),1 sprig Curry leaves,1 Tomato - chopped,1/2 cup Tamarind Water,1 teaspoon Turmeric powder (Haldi),4 Dry Red Chillies,1 teaspoon Cumin seeds (Jeera),1 teaspoon Coriander (Dhania) Seeds,2 Cloves (Laung),1 inch Cinnamon Stick (Dalchini),1/2 cup Fresh coconut,1 inch Ginger,4 cloves Garlic"
        ],
        [
         "43",
         "1 cup Whole Wheat Flour,1 pinch Salt,1 teaspoon Italian seasoning,1/4 cup Cheese spread - flavoured,1 Broccoli - cut into florets,1 Onion - thinly sliced,1 Red Bell pepper (Capsicum) - diced,Salt - to taste,2 sprig Parsley leaves - roughly chopped"
        ],
        [
         "44",
         "2 cups Makki Ka Atta (Yellow Corn Meal Flour),1 1/2 cups Methi Leaves (Fenugreek Leaves) - chopped,2 Green Chillies - chopped,1 tablespoon Ajwain (Carom seeds),1 tablespoon Kashmiri Red Chilli Powder,Salt - to taste"
        ],
        [
         "45",
         "3 Carrots (Gajjar) - grated,3 cups Cabbage (Patta Gobi/ Muttaikose) - shredded,1 Green Bell Pepper (Capsicum) - thinly sliced,1/2 teaspoon Turmeric powder (Haldi),1 teaspoon Sugar,1 teaspoon Lemon juice,Salt - to taste,1 teaspoon Sunflower Oil,1 teaspoon Mustard seeds,1/4 teaspoon Asafoetida (hing),1 sprig Curry leaves,3 Green Chillies - slit lengthwise"
        ],
        [
         "46",
         "1-1/2 cups All Purpose Flour (Maida),1-1/2 cups Whole Wheat Flour,2 teaspoons Active dry yeast,1/2 teaspoons Salt,1-1/2 teaspoons Sugar,1-1/4 cups Lukewarm Water,2 tablespoons Extra Virgin Olive Oil"
        ],
        [
         "47",
         "1 kg Tomatoes,8 Dry Red Chillies - adjustable,1 teaspoon Tamarind Paste,2 teaspoons Red Chilli powder - optional,1/2 teaspoon Turmeric powder (Haldi),1 tablespoon Mustard seeds,1 teaspoon Methi Seeds (Fenugreek Seeds),8 cloves Garlic,Sunflower Oil,Salt - to taste"
        ],
        [
         "48",
         "1-1 / 2 cup brown rice, 2 onions - finely chopped, 4 long garlic - finely chopped, 3 tsp oregano, 3 tsp rosemary, 4 tsp red chilli flakes, salt - as per taste, oil, water - According to use"
        ],
        [
         "49",
         "3 cups Mango (Ripe) - cut into pieces,1/4 cup Water,Sugar - optional"
        ],
        [
         "50",
         "1 cup Whole Wheat Flour,Salt - to taste,Water - as required,Ghee - as required"
        ]
       ],
       "shape": {
        "columns": 1,
        "rows": 6179
       }
      },
      "text/plain": [
       "0       6 Karela (Bitter Gourd/ Pavakkai) - deseeded,S...\n",
       "1       2-1 / 2 cups rice - cooked, 3 tomatoes, 3 teas...\n",
       "2       1-1/2 cups Rice Vermicelli Noodles (Thin),1 On...\n",
       "3       500 grams Chicken,2 Onion - chopped,1 Tomato -...\n",
       "4       1 tablespoon chana dal, 1 tablespoon white ura...\n",
       "                              ...                        \n",
       "6863    2 cups Paneer (Homemade Cottage Cheese) - crum...\n",
       "6864    1-1/2 cup Risotto - cooked risotto (recipe bel...\n",
       "6865    1 cup Quinoa,3/4 cup Sugar,1 teaspoon Cardamom...\n",
       "6868    150 grams Spring Onion (Bulb & Greens) - chopp...\n",
       "6869    1 kg Chicken - medium pieces,1/2 cup Mustard o...\n",
       "Name: TranslatedIngredients, Length: 6179, dtype: object"
      ]
     },
     "execution_count": 12,
     "metadata": {},
     "output_type": "execute_result"
    }
   ],
   "source": [
    "df_english['TranslatedIngredients']"
   ]
  },
  {
   "cell_type": "code",
   "execution_count": null,
   "metadata": {
    "executionInfo": {
     "elapsed": 5,
     "status": "ok",
     "timestamp": 1745339539007,
     "user": {
      "displayName": "Smruti Ranjan",
      "userId": "02421602762441713336"
     },
     "user_tz": -330
    },
    "id": "ss_gBIUNVhiR"
   },
   "outputs": [],
   "source": []
  },
  {
   "cell_type": "code",
   "execution_count": 13,
   "metadata": {
    "colab": {
     "base_uri": "https://localhost:8080/"
    },
    "executionInfo": {
     "elapsed": 97,
     "status": "ok",
     "timestamp": 1745339989571,
     "user": {
      "displayName": "Smruti Ranjan",
      "userId": "02421602762441713336"
     },
     "user_tz": -330
    },
    "id": "wMbJgzLOVhiS",
    "outputId": "667364ba-266c-41e5-830c-536a42ce1bec"
   },
   "outputs": [
    {
     "name": "stderr",
     "output_type": "stream",
     "text": [
      "[nltk_data] Downloading package punkt to\n",
      "[nltk_data]     C:\\Users\\smrut\\AppData\\Roaming\\nltk_data...\n",
      "[nltk_data]   Package punkt is already up-to-date!\n"
     ]
    },
    {
     "data": {
      "text/plain": [
       "True"
      ]
     },
     "execution_count": 13,
     "metadata": {},
     "output_type": "execute_result"
    }
   ],
   "source": [
    "import nltk\n",
    "nltk.download('punkt')"
   ]
  },
  {
   "cell_type": "code",
   "execution_count": 14,
   "metadata": {
    "executionInfo": {
     "elapsed": 606,
     "status": "ok",
     "timestamp": 1745339991648,
     "user": {
      "displayName": "Smruti Ranjan",
      "userId": "02421602762441713336"
     },
     "user_tz": -330
    },
    "id": "czzRMODXVhiS"
   },
   "outputs": [],
   "source": [
    "import spacy\n",
    "import nltk\n",
    "from nltk.corpus import stopwords\n",
    "nlp = spacy.load('en_core_web_sm')"
   ]
  },
  {
   "cell_type": "code",
   "execution_count": 15,
   "metadata": {
    "executionInfo": {
     "elapsed": 28,
     "status": "ok",
     "timestamp": 1745339992663,
     "user": {
      "displayName": "Smruti Ranjan",
      "userId": "02421602762441713336"
     },
     "user_tz": -330
    },
    "id": "btWhveqtVhiT"
   },
   "outputs": [],
   "source": [
    "def extract_ingredients(text):\n",
    "    if pd.isnull(text):\n",
    "        return ''\n",
    "    doc = nlp(text)\n",
    "    ingredients = [token.text for token in doc if token.pos_ in ['NOUN', 'PROPN'] or token.dep_ == 'compound']\n",
    "    return ', '.join(ingredients)"
   ]
  },
  {
   "cell_type": "code",
   "execution_count": 16,
   "metadata": {
    "executionInfo": {
     "elapsed": 79367,
     "status": "ok",
     "timestamp": 1745340072933,
     "user": {
      "displayName": "Smruti Ranjan",
      "userId": "02421602762441713336"
     },
     "user_tz": -330
    },
    "id": "aMRhU89WVhiU"
   },
   "outputs": [],
   "source": [
    "df_english['Ingredients'] = df_english['TranslatedIngredients'].apply(extract_ingredients)"
   ]
  },
  {
   "cell_type": "code",
   "execution_count": 17,
   "metadata": {
    "colab": {
     "base_uri": "https://localhost:8080/",
     "height": 458
    },
    "executionInfo": {
     "elapsed": 6,
     "status": "ok",
     "timestamp": 1745340079176,
     "user": {
      "displayName": "Smruti Ranjan",
      "userId": "02421602762441713336"
     },
     "user_tz": -330
    },
    "id": "VwL6qKkbVhiU",
    "outputId": "5e9c7da9-cf50-4882-ca70-08bc4bc43f76"
   },
   "outputs": [
    {
     "data": {
      "application/vnd.microsoft.datawrangler.viewer.v0+json": {
       "columns": [
        {
         "name": "index",
         "rawType": "int64",
         "type": "integer"
        },
        {
         "name": "Ingredients",
         "rawType": "object",
         "type": "string"
        }
       ],
       "ref": "85b350b1-2303-4103-95da-9e189fa10892",
       "rows": [
        [
         "0",
         "Karela, Gourd/, Pavakkai, Salt, taste,1, Onion, sliced,3, tablespoon, Gram, flour, teaspoons, Turmeric, powder, tablespoon, Red, Chilli, powder,2, teaspoons, Cumin, seeds, tablespoon, Coriander, Powder, Dhania),1, tablespoon, Amchur, Dry, Mango, Powder),Sunflower, Oil"
        ],
        [
         "1",
         "cups, rice, tomatoes, teaspoons, BC, Belle, powder, salt, taste, teaspoon, chickpea, lentils, teaspoon, cumin, seeds, teaspoon, urad, dal, Teaspoon, mustard, chilli, chilli, teaspoon, cashew, peanuts, tablespoon, oil, teaspoon, asafoetida"
        ],
        [
         "2",
         "1, cups, Rice, Vermicelli, Noodles, Thin),1, Onion, sliced,1/2, cup, Carrots, Gajjar, chopped,1/3, cup, Green, peas, Matar),2, Green, Chillies,1/4, teaspoon, Asafoetida, hing),1, teaspoon, Mustard, seeds,1, teaspoon, White, Urad, Dal, teaspoon, Ghee,1, sprig, Curry, Salt, taste,1, teaspoon, Lemon, juice"
        ],
        [
         "3",
         "grams, Chicken,2, Onion, chopped,1, Tomato, chopped,4, Green, Chillies, slit,1, inch, Ginger, Garlic, teaspoon, Turmeric, powder, teaspoon, Garam, masala, powder,2, tablespoon, Sesame, Gingelly, Oil, Salt, taste,1/4, teaspoon, Methi, Seeds, Fenugreek, Seeds),1, tablespoon, Coriander, Dhania, Seeds,4, Dry, Red, Chillies,1, teaspoon, Fennel, seeds, Saunf),1, teaspoon, Sesame, Gingelly, Oil,4, Garlic,2, cups, Sorrel, Leaves, Gongura, Salt"
        ],
        [
         "4",
         "tablespoon, chana, dal, tablespoon, urad, dal, chillies, tablespoon, coriander, seeds, inches, ginger, chop, onion, chop, tomato, chop, salt, taste, Teaspoon, mustard, asafoetida, pinch, oil, use, sprig, curry"
        ],
        [
         "5",
         "cup, Rice, 20, minutes,1/2, cup, Yellow, Moong, Dal, Split, minutes,1, cup, Mint, Leaves, Pudina, packed,1/4, cup, Coriander, Dhania, Leaves, packed,1, Green, Chilli,1, inch, Ginger,1, teaspoon, Cumin, seeds, Jeera),5, cups, Water,1, teaspoon, Sunflower, Oil, Salt, tablespoons, Cashew, halved,1, teaspoon, Cumin, teaspoon, Whole, Black, Peppercorns,1, sprig, Curry, leaves,1, pinch, Asafoetida, hing"
        ],
        [
         "6",
         "grams, Vellai, Poosanikai, Ash, gourd, White, Pumpkin),1/2, teaspoon, powder, Haldi),Salt, Sunflower, Oil, cooking,4, Dry, Red, Chillies,1/2, cup, Fresh, coconut, grated,30, grams, Tamarind, Water,1/2, teaspoon, Methi, Seeds, Fenugreek, Seeds),1/2, teaspoon, Cumin, seeds, Coriander, Dhania, Seeds,2, teaspoons, Sesame, seeds, Til, seeds),3, tablespoons, Jaggery,1, cup, Tamarind, Water,1, teaspoon, Sunflower, Oil,1/2, teaspoon, Mustard, sprig, Curry, leaves, torn,1, Dry, Red, Chillies"
        ],
        [
         "7",
         "Tortillas,1/4, cup, Black, beans, Spinach, Leaves, Palak),1, Onion, chopped,1, Tomato, chopped,2, Garlic, chopped,2, sprig, Coriander, Dhania, Leaves,1, cup, Rice, rice,1, Lemon, Spring, Onion, Greens, chopped,4, tablespoons, Cheddar, tablespoon, Hung, Curd, Greek, Yogurt"
        ],
        [
         "8",
         "Idli, cup, Green, Bell, Pepper, Capsicum, sliced,1, cup, Tomato, chopped,1, cup, Onions, chopped,2, Green, Chillies, chopped,1/4, teaspoon, Red, Chilli, powder,1/2, teaspoon, Turmeric, powder, Haldi),3, tablespoons, Tomato, Ketchup, Coriander, Dhania, Leaves, Mint, Leaves, Pudina, Sunflower, Oil, Salt"
        ],
        [
         "9",
         "cup, cabbage, leaves, cup, tomatoes, grams, tamarind, tablespoons, urad, dal, chillies, salt, taste, asafoetida, pinch, turmeric, powder, pinch, Spoon, oil, teaspoon, Rye, teaspoon, Cumin, seeds, sprig, Curry"
        ],
        [
         "10",
         "grams, Dry, beans, cannellini, soya, beans),1, teaspoon, Extra, Virgin, Olive, Oil,1, Onion, chopped,1, clove, Garlic, grated,500, grams, Tomatoes, pureed,1, tablespoon, Honey, taste,1, teaspoon, Cumin, powder, teaspoon, Dried, oregano,1/4, teaspoon, Red, Chilli, powder, cayenne, pepper, Salt, Pepper, pepper"
        ],
        [
         "11",
         "Burger, buns,5, Pickled, Jalapenos, sliced,2, Cheese, Slices,2, Potatoes, Aloo, pressure, cooked,1, Onion, chopped,1, tablespoon, Red, Chilli, powder, Salt, taste,1, Whole, Egg,1/2, cup, Whole, Wheat, Bread, crumbs,4, Garlic, chopped,1, Onions, chopped,2, Tomatoes, chopped,1, cup, Homemade, tomato, puree,1, Green, Bell, Pepper, Capsicum, chopped,1/2, cup, Soy, granules,1, tablespoon, Red, Chilli, powder,1, teaspoon, Red, Chilli, flakes,1, tablespoon, Cumin, powder, tablespoon, Dried, oregano,1, tablespoon, Tabasco, Original, Hot, Sauce,1, teaspoon, Honey, Salt, Sunflower, Oil"
        ],
        [
         "12",
         "cup, Tamarind, Water,1/2, cup, Arhar, dal, Split, Toor, Dal),1, teaspoon, Asafoetida, hing),Salt, taste,1, teaspoon, Mustard, seeds,1, teaspoon, Cumin, teaspoon, Methi, Seeds, Fenugreek, Seeds),1, sprig, Curry, leaves,1, pinch, Asafoetida, hing),Sunflower, Oil, cooking"
        ],
        [
         "13",
         "grams, Aar, Maach, fish, katla, fish, Tomato, chopped,2, Bay, leaves, tej, patta),1, tablespoons, Ginger, paste,4, Green, Chillies, teaspoon, Cumin, powder, teaspoon, Coriander, Powder, Dhania),Salt, taste,1/2, teaspoon, Cumin, seeds, Jeera),1/2, teaspoon, Turmeric, powder, Haldi),2, Green, Chillies, slit, lengthwise, Mustard, oil, required,1, cups, Water, cups, gravy, Sugar, pinch, optional),1, tablespoon, Coriander, Dhania, Leaves, optional"
        ],
        [
         "14",
         "Potatoes, Aloo, teaspoon, Fennel, seeds, Saunf, crushed,2, teaspoon, Red, Chilli, powder,1, teaspoon, powder, Haldi),1/4, cup, cream, cup, milk,4, sprig, Coriander, Dhania, Leaves"
        ],
        [
         "15",
         "onions, teaspoon, cumin, seeds, tablespoons, urad, dal, split, tablespoon, tamarind, paste, chillies, teaspoon, jaggery, teaspoons, oil, salt, teaspoon, taste, Rye, sprig, curry, leaves, teaspoon, oil"
        ],
        [
         "16",
         "Whole, Eggs, boiled,1, Cinnamon, Stick, Dalchini, Bay, leaf, Cloves, Laung),1, tablespoon, Sunflower, Oil,2, Coriander, Powder, Dhania),1, teaspoon, Garam, masala, powder,2, tablespoons, Fresh, cream,2, cups, Coriander, Dhania, Leaves, packed,1, cup, Mint, Leaves, Pudina, chopped,2, Green, Chillies, chopped,1, Onion, chopped,1, inch, Ginger, chopped,4, Garlic"
        ],
        [
         "17",
         "cups, curd, cup, peel, cucumber, peel, coriander, teaspoon, cumin, powder, salt, taste"
        ],
        [
         "18",
         "Potatoes, teaspoon, Garlic, powder,1, teaspoon, Onion, powder,1, teaspoon, Dried, oregano,1, tablespoon, Coriander, Dhania, Leaves, chopped,1, teaspoon, Red, Chilli, tablespoon, Purpose, Flour, Maida),1, tablespoon, Rice, flour, Salt, Sunflower, Oil, frying, tater, tots"
        ],
        [
         "19",
         "cup, rice, water, onions, garlic, inch, ginger, chillies, cut, bay, leaf, break, tsp, chilli, powder, tsp, turmeric, powder, carrot, chop, beans, chop, potatoes, peel, chop, ghee, use, cloves, inch, tsp, fennel, tsp, pepper, coriander, seeds, cup, peas, steam, cup, mint, leaves"
        ],
        [
         "20",
         "amla, onions, bud, garlic, chillies, cup, mint, cup, coriander, salt, taste, tsp, oil, tsp, oil, tsp, rye, tsp, urad, dal, tsp, chana, dal, sprig, curry, leaves, cashew, nuts"
        ],
        [
         "21",
         "cup, Gram, flour, besan),1/2, cup, Whole, Wheat, Flour,1/4, cup, Rice, Cucumber, grated,1, teaspoon, Turmeric, powder, teaspoon, Cumin, powder, teaspoon, Coriander, Powder, Dhania),1, teaspoon, Red, Chilli, Green, Chillies, cup, Coriander, Dhania, Leaves, chopped,5, Garlic, Salt, Ghee, thalipeeth"
        ],
        [
         "23",
         "Drumstick, inch, pieces,1/2, cup, coconut, grated,2, Green, Chillies, slit,1, Curry, leaves,1, teaspoon, Mustard, teaspoons, Coconut, Dry, Red, teaspoon, powder, Haldi),Salt, Water"
        ],
        [
         "24",
         "cup, Mango, Pulp, Puree),1, cup, Curd, Dahi, Yogurt, fat),1, tablespoon, Sugar, honey,2, Saffron, strands,3, tablespoons, Badam, Almond, chopped,3, tablespoons, Milk, luke, milk, Ice, cubes"
        ],
        [
         "25",
         "cup, idli, dosa, mixture, tablespoons, rice, rava, cup, jaggery, tablespoons, coconut, tablespoon, cardamom, powder, salt, taste, water, use, oil, use"
        ],
        [
         "26",
         "Cardamom, Elaichi, Pods, Seeds,6, Whole, Black, Peppercorns,1/2, inch, Cinnamon, Stick, Dalchini),3, Cloves, Laung),1, Mace, Javitri),1, Bay, leaf, tej, patta),1, Black, cardamom, Badi, Elaichi),1/2, teaspoon, Kasuri, Methi, Dried, Fenugreek, teaspoon, Kashmiri, Red, Chilli, Powder,1/2, teaspoon, Turmeric, powder, teaspoon, Coriander, Powder, teaspoon, Garam, masala, Samosas, mini,15, Cashew, Green, Chilli,1, Onion, chopped,2, Tomato, inch, Ginger,1/2, teaspoon, Sugar,1, tablespoon, Fresh, cream,2, tablespoons, Sunflower, Oil"
        ],
        [
         "27",
         "Baguette, sliced,1, tablespoon, Butter,1/2, tablespoon, Garlic, minced,1, cup, Spinach, Leaves, Palak),1, Red, Bell, pepper, Capsicum, Tomato, Onion, optional),1, tablespoon, pepper, powder, adjust,1, tablespoon, seasoning,1, teaspoon, Fresh, cream,1, cup, Cheddar, cheese, Salt, taste,1, tablespoon, tomato, pasta, sauce"
        ],
        [
         "28",
         "cup, Whole, Wheat, Flour,1, cup, Purpose, Flour, Maida),1, teaspoon, Ajwain, Carom, teaspoon, Cumin, Jeera),2, tablespoons, Ghee, Salt, Sunflower, Oil, frying,1, cup, Chana, dal, Bengal, Gram, Dal),1/2, teaspoon, Turmeric, powder, teaspoon, Garam, masala, powder,1/4, teaspoon, Red, Chilli, powder,1, teaspoon, Amchur, Dry, Mango, Powder),1/2, teaspoon, Sugar, Salt, needed,1, tablespoon, Ghee,1/4, teaspoon, Asafoetida, hing),1, teaspoon, Cumin, Jeera),2, Green, Chillies, slit,1, sprig, Curry, leaves,1/4, cup, Sweet, Chutney, Date, Tamarind),1/4, cup, Green, Chutney, Coriander, Mint),1, Onion, cup, Fresh, Pomegranate, Fruit, Kernels,1/4, cup, Sev"
        ],
        [
         "29",
         "grams, Green, beans, Beans, half,3, Garlic, chopped,1, tablespoon, Soy, sauce,2, tablespoons, Thai, Sweet, Chilli, Sauce,1, Lemon, juice,2, tablespoons, Rice, Wine, Vinegar,1/4, cup, Roasted, Peanuts, Moongphali),Salt, taste,1, tablespoon, Sesame, Gingelly, Oil"
        ],
        [
         "30",
         "tablespoon, Sunflower, Oil, Purpose, Flour, teaspoon, Baking, powder, Water, dough, Sunflower, Oil, fry,2, tablespoons, Honey,2, tablespoon, Sugar,1, tablespoon, Sesame, seeds, Til, seeds, white,2, tablespoons, teaspoon, Vanilla, Extract"
        ],
        [
         "31",
         "cup, Sundkai, cup, fenugreek, cup, Arhar, dal, Tomato, Tamarind, tsp, Turmeric, Powder, tsp, Sambar, Powder, tsp, Coriander, Powder, teaspoon, mustard, teaspoon, cumin, seeds, chili, teaspoon, asafoetida, oil, use, salt, taste, leaves, coriander, water, use"
        ],
        [
         "32",
         "cup, Cabbage, Patta, Gobi/, Muttaikose, shredded,1, cup, Spinach, shredded,1, cup, Fresh, Pomegranate, Fruit, Kernels,2, Lemon, juice,2, tablespoons, Extra, Virgin, Olive, Oil, Salt, Pepper"
        ],
        [
         "33",
         "cup, Purpose, Flour, Maida),2, tablespoons, teaspoon, Salt, Sunflower, Oil, frying,2, tablespoons, Ghee,1, teaspoon, Cumin, teaspoon, Green, Chilli, Sauce,1/2, teaspoon, Cinnamon, Powder, Dalchini),1/2, teaspoon, Garam, masala, powder,1/4, teaspoon, Red, Chilli, powder,2, teaspoon, Amchur, Dry, Mango, Powder),1, cups, Green, peas, Matar, Salt, teaspoon, Purpose, Flour, Maida),1/4, cup, Water"
        ],
        [
         "34",
         "cup, Purpose, Flour, Maida),1/2, cup, Sugar,1, cup, Dark, chocolate,1/2, cup, Cocoa, Powder,1/2, cup, Salted, butter,3/4, cup, Milk,1/2, tablespoon, Baking, powder,1/2, teaspoon, Baking, soda,1/2, tablespoon, Vanilla, Extract,1, cup, Britannia, Cream, Cheese,3/4, cup, Caster, Sugar,1, teaspoon, Vanilla, Extract,8, Fresh, raspberries"
        ],
        [
         "35",
         "cup, Ada,2, liter, Milk, cream,3/4, cup, Sugar,1, tablespoon, teaspoon, Cardamom, Powder, Elaichi"
        ],
        [
         "36",
         "cup, Tindora, Dondakaya/, Kovakkai, teaspoon, Red, Chilli, powder,1/4, teaspoon, Split, Methi, Seeds, Methi, Kuria),1/2, teaspoon, Split, Mustard, Seeds, Rai, Kuria),1/4, teaspoon, Turmeric, powder, Haldi),1/4, teaspoon, Asafoetida, hing),1, tablespoon, Sunflower, Oil, Lemon, juice, Salt"
        ],
        [
         "37",
         "Chicken, legs,1/4, cup, Hung, Curd, Greek, Yogurt),1/2, teaspoon, powder, taste,1, teaspoon, Sunflower, Oil,1, Onion, sliced,4, Garlic,1/2, inch, Ginger,2, tablespoon, coconut, grated,2, teaspoon, Cumin, Coriander, Dhania, Seeds,1/4, teaspoon, Methi, Seeds, Fenugreek, Seeds),1/4, teaspoon, Kalonji, Onion, Nigella, Seeds),1, teaspoon, Whole, Black, Peppercorns,2, Dry, Red, Chillies,1, teaspoon, Fennel, seeds, inch, Cinnamon, Stick, Dalchini),2, Cloves, Laung),1, Cardamom, Elaichi, Pods, teaspoon, Mustard, seeds,1, tablespoon, Ghee,1, teaspoon, Tamarind, Paste,1, teaspoon, Jaggery,1, teaspoon, teaspoon, Mustard, seeds,1, Curry, leaves,4, Garlic"
        ],
        [
         "38",
         "cup, Jackfruit, Seeds, Kathal),1, cup, Tamarind, Water,8, Garlic,1/2, teaspoon, Mustard, teaspoon, Cumin, seeds, Jeera),8, Curry, leaves,1/4, teaspoon, Turmeric, powder, teaspoon, Red, Chilli, powder,2, teaspoons, Sambar, Powder,1/4, teaspoon, Asafoetida, hing),Coriander, Dhania, Leaves, bunch, Salt, Sunflower, Oil,1/2, cup, Fresh, coconut,10, Whole, Black, Peppercorns,2, Dry, Red, Chillies,1, Onion, chopped,1, Tomato, chopped,1, teaspoon, Coriander, Dhania, Seeds,1, teaspoon, Sunflower, Oil"
        ],
        [
         "39",
         "eggplant, inch, ginger, peel, onion, tomato, chillies, teaspoon, turmeric, powder, teaspoon, garam, masala, powder, teaspoon, coriander, powder, tablespoon, butter, teaspoon, chili, powder, salt, taste, tablespoon, oil, sprigs, coriander"
        ],
        [
         "40",
         "cups, Water,1, teaspoon, Tea, leaves,1/4, cup, Milk,10, Saffron, strands"
        ],
        [
         "41",
         "mango, chop, cup, tamarind, water, tablespoon, jaggery, tablespoon, sambar, powder, teaspoon, turmeric, powder, teaspoon, salt, teaspoon, mustard, asafoetida, pinch, Sprig, Curry, chillies, oil, use"
        ],
        [
         "42",
         "Jackfruit, Seeds, Kathal),1, cup, Kala, Chana, Brown, Chickpeas, overnight,1, teaspoon, Mustard, teaspoon, Cumin, Curry, Tomato, chopped,1/2, cup, Tamarind, Water,1, teaspoon, Turmeric, powder, Haldi),4, Dry, Red, Chillies,1, teaspoon, Cumin, teaspoon, Coriander, Dhania, Seeds,2, Cloves, Laung),1, Cinnamon, Stick, Dalchini),1/2, cup, coconut,1, inch, Ginger,4, Garlic"
        ],
        [
         "43",
         "cup, Whole, Wheat, Flour,1, pinch, Salt,1, teaspoon, seasoning,1/4, cup, Cheese, spread, flavoured,1, Broccoli, cut, Onion, Red, Bell, pepper, Capsicum, Salt, sprig, Parsley"
        ],
        [
         "44",
         "cups, Makki, Ka, Atta, Yellow, Corn, Meal, cups, Methi, Leaves, Fenugreek, Leaves, chopped,2, Green, Chillies, chopped,1, tablespoon, Ajwain, Carom, tablespoon, Kashmiri, Red, Chilli, Powder, Salt"
        ],
        [
         "45",
         "Carrots, Gajjar, grated,3, cups, Cabbage, Patta, Gobi/, Muttaikose, shredded,1, Green, Bell, Pepper, Capsicum, sliced,1/2, teaspoon, Turmeric, powder, teaspoon, Sugar,1, teaspoon, Lemon, juice, Salt, taste,1, teaspoon, Sunflower, teaspoon, Mustard, seeds,1/4, teaspoon, Asafoetida, hing),1, sprig, Curry, Green, Chillies, slit, lengthwise"
        ],
        [
         "46",
         "1, cups, Purpose, Flour, Maida),1, cups, Whole, Wheat, Flour,2, teaspoons, Active, yeast,1/2, Salt,1, teaspoons, Sugar,1, cups, Lukewarm, Water,2, tablespoons, Extra, Virgin, Olive, Oil"
        ],
        [
         "47",
         "Tomatoes,8, Dry, Red, Chillies, adjustable,1, teaspoon, Tamarind, Paste,2, Red, Chilli, powder, teaspoon, Turmeric, powder, Haldi),1, tablespoon, Mustard, seeds,1, teaspoon, Methi, Seeds, Fenugreek, Garlic, Sunflower, Oil, Salt"
        ],
        [
         "48",
         "cup, rice, onions, garlic, tsp, oregano, tsp, tsp, chilli, flakes, salt, taste, oil, water, use"
        ],
        [
         "49",
         "cups, Mango, Ripe, pieces,1/4, cup, Water, Sugar, optional"
        ],
        [
         "50",
         "cup, Whole, Wheat, Flour, Salt, Water, Ghee"
        ]
       ],
       "shape": {
        "columns": 1,
        "rows": 6179
       }
      },
      "text/plain": [
       "0       Karela, Gourd/, Pavakkai, Salt, taste,1, Onion...\n",
       "1       cups, rice, tomatoes, teaspoons, BC, Belle, po...\n",
       "2       1, cups, Rice, Vermicelli, Noodles, Thin),1, O...\n",
       "3       grams, Chicken,2, Onion, chopped,1, Tomato, ch...\n",
       "4       tablespoon, chana, dal, tablespoon, urad, dal,...\n",
       "                              ...                        \n",
       "6863    cups, Paneer, Homemade, Cottage, Cheese, crumb...\n",
       "6864    1, cup, Risotto, risotto, below),1, cup, Parme...\n",
       "6865    cup, Quinoa,3/4, cup, Sugar,1, teaspoon, Carda...\n",
       "6868    grams, Spring, Onion, Bulb, Greens, chopped,3/...\n",
       "6869    Chicken, medium, pieces,1/2, cup, Mustard, oil...\n",
       "Name: Ingredients, Length: 6179, dtype: object"
      ]
     },
     "execution_count": 17,
     "metadata": {},
     "output_type": "execute_result"
    }
   ],
   "source": [
    "df_english['Ingredients']"
   ]
  },
  {
   "cell_type": "code",
   "execution_count": 18,
   "metadata": {
    "colab": {
     "base_uri": "https://localhost:8080/"
    },
    "executionInfo": {
     "elapsed": 32,
     "status": "ok",
     "timestamp": 1745340079967,
     "user": {
      "displayName": "Smruti Ranjan",
      "userId": "02421602762441713336"
     },
     "user_tz": -330
    },
    "id": "1GGErgCZVhiV",
    "outputId": "2e8afcca-da36-4107-cb13-fb332a7e5561"
   },
   "outputs": [
    {
     "name": "stdout",
     "output_type": "stream",
     "text": [
      "<class 'pandas.core.frame.DataFrame'>\n",
      "Index: 6179 entries, 0 to 6869\n",
      "Data columns (total 15 columns):\n",
      " #   Column                  Non-Null Count  Dtype \n",
      "---  ------                  --------------  ----- \n",
      " 0   Srno                    6179 non-null   int64 \n",
      " 1   RecipeName              6179 non-null   object\n",
      " 2   TranslatedRecipeName    6179 non-null   object\n",
      " 3   Ingredients             6179 non-null   object\n",
      " 4   TranslatedIngredients   6173 non-null   object\n",
      " 5   PrepTimeInMins          6179 non-null   int64 \n",
      " 6   CookTimeInMins          6179 non-null   int64 \n",
      " 7   TotalTimeInMins         6179 non-null   int64 \n",
      " 8   Servings                6179 non-null   int64 \n",
      " 9   Cuisine                 6179 non-null   object\n",
      " 10  Course                  6179 non-null   object\n",
      " 11  Diet                    6179 non-null   object\n",
      " 12  Instructions            6179 non-null   object\n",
      " 13  TranslatedInstructions  6179 non-null   object\n",
      " 14  URL                     6179 non-null   object\n",
      "dtypes: int64(5), object(10)\n",
      "memory usage: 772.4+ KB\n"
     ]
    }
   ],
   "source": [
    "df_english.info()"
   ]
  },
  {
   "cell_type": "code",
   "execution_count": 19,
   "metadata": {
    "executionInfo": {
     "elapsed": 2,
     "status": "ok",
     "timestamp": 1745340080778,
     "user": {
      "displayName": "Smruti Ranjan",
      "userId": "02421602762441713336"
     },
     "user_tz": -330
    },
    "id": "TpXb18hoVhiW"
   },
   "outputs": [],
   "source": [
    "import string\n",
    "import nltk\n",
    "from nltk.corpus import stopwords\n",
    "from sklearn.feature_extraction.text import TfidfVectorizer\n",
    "from sklearn.metrics.pairwise import cosine_similarity"
   ]
  },
  {
   "cell_type": "code",
   "execution_count": 20,
   "metadata": {
    "colab": {
     "base_uri": "https://localhost:8080/"
    },
    "executionInfo": {
     "elapsed": 7,
     "status": "ok",
     "timestamp": 1745340083573,
     "user": {
      "displayName": "Smruti Ranjan",
      "userId": "02421602762441713336"
     },
     "user_tz": -330
    },
    "id": "4Hs7tnfVVhiW",
    "outputId": "123061a8-859f-4aa7-96dd-d4ef16d773c9"
   },
   "outputs": [
    {
     "name": "stderr",
     "output_type": "stream",
     "text": [
      "[nltk_data] Downloading package stopwords to\n",
      "[nltk_data]     C:\\Users\\smrut\\AppData\\Roaming\\nltk_data...\n",
      "[nltk_data]   Package stopwords is already up-to-date!\n"
     ]
    },
    {
     "data": {
      "text/plain": [
       "True"
      ]
     },
     "execution_count": 20,
     "metadata": {},
     "output_type": "execute_result"
    }
   ],
   "source": [
    "import nltk.downloader\n",
    "\n",
    "\n",
    "nltk.downloader.download('stopwords')"
   ]
  },
  {
   "cell_type": "code",
   "execution_count": 21,
   "metadata": {
    "executionInfo": {
     "elapsed": 21,
     "status": "ok",
     "timestamp": 1745340085840,
     "user": {
      "displayName": "Smruti Ranjan",
      "userId": "02421602762441713336"
     },
     "user_tz": -330
    },
    "id": "4ZcjNnwaVhiX"
   },
   "outputs": [],
   "source": [
    "def preprocess_text(text):\n",
    "    # Lowercase the text\n",
    "    text = text.lower()\n",
    "    # Remove punctuation\n",
    "    text = ''.join([char for char in text if char not in string.punctuation])\n",
    "    # Tokenize the text\n",
    "    tokens = nltk.word_tokenize(text)\n",
    "    # Remove stopwords\n",
    "    stop_words = set(stopwords.words('english'))  # Explicitly load stopwords from NLTK corpus\n",
    "    tokens = [word for word in tokens if word not in stop_words]\n",
    "    return ' '.join(tokens)"
   ]
  },
  {
   "cell_type": "code",
   "execution_count": 22,
   "metadata": {
    "colab": {
     "base_uri": "https://localhost:8080/"
    },
    "executionInfo": {
     "elapsed": 59,
     "status": "ok",
     "timestamp": 1745340593032,
     "user": {
      "displayName": "Smruti Ranjan",
      "userId": "02421602762441713336"
     },
     "user_tz": -330
    },
    "id": "9W70PM5RZOCg",
    "outputId": "d834cfdf-bada-47b4-9f11-a616bad17e5d"
   },
   "outputs": [
    {
     "name": "stderr",
     "output_type": "stream",
     "text": [
      "[nltk_data] Downloading package punkt to\n",
      "[nltk_data]     C:\\Users\\smrut\\AppData\\Roaming\\nltk_data...\n",
      "[nltk_data]   Package punkt is already up-to-date!\n",
      "[nltk_data] Downloading package stopwords to\n",
      "[nltk_data]     C:\\Users\\smrut\\AppData\\Roaming\\nltk_data...\n",
      "[nltk_data]   Package stopwords is already up-to-date!\n",
      "[nltk_data] Downloading package punkt_tab to\n",
      "[nltk_data]     C:\\Users\\smrut\\AppData\\Roaming\\nltk_data...\n",
      "[nltk_data]   Package punkt_tab is already up-to-date!\n"
     ]
    },
    {
     "data": {
      "text/plain": [
       "True"
      ]
     },
     "execution_count": 22,
     "metadata": {},
     "output_type": "execute_result"
    }
   ],
   "source": [
    "import nltk\n",
    "nltk.download('punkt')\n",
    "nltk.download('stopwords')\n",
    "nltk.download('punkt_tab')"
   ]
  },
  {
   "cell_type": "code",
   "execution_count": 23,
   "metadata": {
    "executionInfo": {
     "elapsed": 1623,
     "status": "ok",
     "timestamp": 1745340416374,
     "user": {
      "displayName": "Smruti Ranjan",
      "userId": "02421602762441713336"
     },
     "user_tz": -330
    },
    "id": "6b4QE_CbZE7l"
   },
   "outputs": [],
   "source": [
    "import string\n",
    "from nltk.corpus import stopwords\n",
    "from sklearn.feature_extraction.text import TfidfVectorizer\n",
    "from sklearn.metrics.pairwise import cosine_similarity\n",
    "\n",
    "\n",
    "def preprocess_text(text):\n",
    "    # Check if the text is valid\n",
    "    if isinstance(text, str) and text:  # Check if text is a non-empty string\n",
    "        # Lowercase the text\n",
    "        text = text.lower()\n",
    "        # Remove punctuation\n",
    "        text = ''.join([char for char in text if char not in string.punctuation])\n",
    "        # Tokenize the text\n",
    "        tokens = nltk.word_tokenize(text)\n",
    "        # Remove stopwords\n",
    "        stop_words = set(stopwords.words('english'))\n",
    "        tokens = [word for word in tokens if word not in stop_words]\n",
    "        return ' '.join(tokens)\n",
    "    else:\n",
    "        return ''  # Return empty string for invalid input\n",
    "\n",
    "df_english['Ingredients'] = df_english['Ingredients'].apply(preprocess_text)"
   ]
  },
  {
   "cell_type": "code",
   "execution_count": 24,
   "metadata": {
    "executionInfo": {
     "elapsed": 25,
     "status": "ok",
     "timestamp": 1745340422440,
     "user": {
      "displayName": "Smruti Ranjan",
      "userId": "02421602762441713336"
     },
     "user_tz": -330
    },
    "id": "OBpp5XJ2VhiY"
   },
   "outputs": [],
   "source": [
    "df_english['CleanedIngredients'] = df_english['Ingredients'].apply(lambda x: x.split(','))"
   ]
  },
  {
   "cell_type": "code",
   "execution_count": 25,
   "metadata": {
    "executionInfo": {
     "elapsed": 353,
     "status": "ok",
     "timestamp": 1745340425942,
     "user": {
      "displayName": "Smruti Ranjan",
      "userId": "02421602762441713336"
     },
     "user_tz": -330
    },
    "id": "KDXAC6epVhiY"
   },
   "outputs": [],
   "source": [
    "tfidf_vectorizer = TfidfVectorizer()\n",
    "tfidf_matrix = tfidf_vectorizer.fit_transform(df_english['Ingredients'])"
   ]
  },
  {
   "cell_type": "code",
   "execution_count": 26,
   "metadata": {
    "executionInfo": {
     "elapsed": 2,
     "status": "ok",
     "timestamp": 1745340427840,
     "user": {
      "displayName": "Smruti Ranjan",
      "userId": "02421602762441713336"
     },
     "user_tz": -330
    },
    "id": "IOpSRlFeVhiZ"
   },
   "outputs": [],
   "source": [
    "def calculate_similarity(user_ingredients, user_prep_time, user_cook_time):\n",
    "    # User ingredients\n",
    "    user_ingredients_text = preprocess_text(', '.join(user_ingredients))\n",
    "    user_tfidf = tfidf_vectorizer.transform([user_ingredients_text])\n",
    "    cosine_similarities = cosine_similarity(user_tfidf, tfidf_matrix)[0]\n",
    "\n",
    "    # Weighted features\n",
    "    prep_time_similarity = 1 - abs(df['PrepTimeInMins'] - user_prep_time) / df['PrepTimeInMins'].max()\n",
    "    cook_time_similarity = 1 - abs(df['CookTimeInMins'] - user_cook_time) / df['CookTimeInMins'].max()\n",
    "\n",
    "    # Align shapes\n",
    "    min_length = min(len(cosine_similarities), len(prep_time_similarity), len(cook_time_similarity))\n",
    "    cosine_similarities = cosine_similarities[:min_length]\n",
    "    prep_time_similarity = prep_time_similarity[:min_length]\n",
    "    cook_time_similarity = cook_time_similarity[:min_length]\n",
    "\n",
    "    # Combine similarity scores with weighted features\n",
    "    combined_similarity = (cosine_similarities + prep_time_similarity + cook_time_similarity) / 3\n",
    "    return combined_similarity"
   ]
  },
  {
   "cell_type": "code",
   "execution_count": 27,
   "metadata": {
    "executionInfo": {
     "elapsed": 4,
     "status": "ok",
     "timestamp": 1745340430712,
     "user": {
      "displayName": "Smruti Ranjan",
      "userId": "02421602762441713336"
     },
     "user_tz": -330
    },
    "id": "yQwk-TNnVhiZ"
   },
   "outputs": [],
   "source": [
    "def recommend_recipes(user_ingredients, user_prep_time, user_cook_time, top_n=5):\n",
    "    combined_similarity = calculate_similarity(user_ingredients, user_prep_time, user_cook_time)\n",
    "#     print(\"Shape of combined_similarity:\", combined_similarity.shape)\n",
    "    # Sort the indices based on similarity scores in descending order\n",
    "    sorted_indices = combined_similarity.argsort()[::-1]\n",
    "#     print(\"Sorted indices:\", sorted_indices)\n",
    "#     print(\"Top n:\", top_n)\n",
    "#     print(\"Column indexer:\", df.columns.get_indexer(['RecipeName', 'TranslatedRecipeName']))\n",
    "    # Select top_n recipes based on sorted indices\n",
    "    top_recommendations = df.iloc[sorted_indices[:top_n], df.columns.get_indexer(['RecipeName', 'TranslatedRecipeName'])].copy()\n",
    "    return top_recommendations"
   ]
  },
  {
   "cell_type": "code",
   "execution_count": 28,
   "metadata": {
    "colab": {
     "base_uri": "https://localhost:8080/",
     "height": 206
    },
    "executionInfo": {
     "elapsed": 17,
     "status": "ok",
     "timestamp": 1745340432570,
     "user": {
      "displayName": "Smruti Ranjan",
      "userId": "02421602762441713336"
     },
     "user_tz": -330
    },
    "id": "ckUIJr8ZVhia",
    "outputId": "af0e9b4a-3337-4c4f-ce7c-cb9f3161b319"
   },
   "outputs": [
    {
     "data": {
      "application/vnd.microsoft.datawrangler.viewer.v0+json": {
       "columns": [
        {
         "name": "index",
         "rawType": "int64",
         "type": "integer"
        },
        {
         "name": "RecipeName",
         "rawType": "object",
         "type": "string"
        },
        {
         "name": "TranslatedRecipeName",
         "rawType": "object",
         "type": "string"
        }
       ],
       "ref": "83ae62c0-133a-400c-99cb-9f035e4988cb",
       "rows": [
        [
         "2516",
         "Broccoli & Vegetable Coconut Curry Recipe",
         "Broccoli & Vegetable Coconut Curry Recipe"
        ],
        [
         "5351",
         "Baked Cheesy Broccoli Pasta Recipe",
         "Baked Cheesy Broccoli Pasta Recipe"
        ],
        [
         "144",
         "कटाची आमटी रेसिपी - Katachi Amti (Recipe In Hindi)",
         " Katachi Amti (Recipe In Hindi)"
        ],
        [
         "1503",
         "चाउ चाउ करी रेसिपी - Chow Chow Curry Recipe",
         "Chow Chow Curry Recipe - Chow Chow Curry Recipe"
        ],
        [
         "2672",
         "Mushroom Masala Cheese Omelette Recipe",
         "Mushroom Masala Cheese Omelette Recipe"
        ]
       ],
       "shape": {
        "columns": 2,
        "rows": 5
       }
      },
      "text/html": [
       "<div>\n",
       "<style scoped>\n",
       "    .dataframe tbody tr th:only-of-type {\n",
       "        vertical-align: middle;\n",
       "    }\n",
       "\n",
       "    .dataframe tbody tr th {\n",
       "        vertical-align: top;\n",
       "    }\n",
       "\n",
       "    .dataframe thead th {\n",
       "        text-align: right;\n",
       "    }\n",
       "</style>\n",
       "<table border=\"1\" class=\"dataframe\">\n",
       "  <thead>\n",
       "    <tr style=\"text-align: right;\">\n",
       "      <th></th>\n",
       "      <th>RecipeName</th>\n",
       "      <th>TranslatedRecipeName</th>\n",
       "    </tr>\n",
       "  </thead>\n",
       "  <tbody>\n",
       "    <tr>\n",
       "      <th>2516</th>\n",
       "      <td>Broccoli &amp; Vegetable Coconut Curry Recipe</td>\n",
       "      <td>Broccoli &amp; Vegetable Coconut Curry Recipe</td>\n",
       "    </tr>\n",
       "    <tr>\n",
       "      <th>5351</th>\n",
       "      <td>Baked Cheesy Broccoli Pasta Recipe</td>\n",
       "      <td>Baked Cheesy Broccoli Pasta Recipe</td>\n",
       "    </tr>\n",
       "    <tr>\n",
       "      <th>144</th>\n",
       "      <td>कटाची आमटी रेसिपी - Katachi Amti (Recipe In Hi...</td>\n",
       "      <td>Katachi Amti (Recipe In Hindi)</td>\n",
       "    </tr>\n",
       "    <tr>\n",
       "      <th>1503</th>\n",
       "      <td>चाउ चाउ करी रेसिपी - Chow Chow Curry Recipe</td>\n",
       "      <td>Chow Chow Curry Recipe - Chow Chow Curry Recipe</td>\n",
       "    </tr>\n",
       "    <tr>\n",
       "      <th>2672</th>\n",
       "      <td>Mushroom Masala Cheese Omelette Recipe</td>\n",
       "      <td>Mushroom Masala Cheese Omelette Recipe</td>\n",
       "    </tr>\n",
       "  </tbody>\n",
       "</table>\n",
       "</div>"
      ],
      "text/plain": [
       "                                             RecipeName  \\\n",
       "2516          Broccoli & Vegetable Coconut Curry Recipe   \n",
       "5351                 Baked Cheesy Broccoli Pasta Recipe   \n",
       "144   कटाची आमटी रेसिपी - Katachi Amti (Recipe In Hi...   \n",
       "1503        चाउ चाउ करी रेसिपी - Chow Chow Curry Recipe   \n",
       "2672             Mushroom Masala Cheese Omelette Recipe   \n",
       "\n",
       "                                 TranslatedRecipeName  \n",
       "2516        Broccoli & Vegetable Coconut Curry Recipe  \n",
       "5351               Baked Cheesy Broccoli Pasta Recipe  \n",
       "144                    Katachi Amti (Recipe In Hindi)  \n",
       "1503  Chow Chow Curry Recipe - Chow Chow Curry Recipe  \n",
       "2672           Mushroom Masala Cheese Omelette Recipe  "
      ]
     },
     "execution_count": 28,
     "metadata": {},
     "output_type": "execute_result"
    }
   ],
   "source": [
    "user_ingredients = [\"onion\", \"tomato\", \"garlic\", \"ginger\"]\n",
    "user_prep_time = 30  # minutes\n",
    "user_cook_time = 45  # minutes\n",
    "recommendations = recommend_recipes(user_ingredients, user_prep_time, user_cook_time)\n",
    "recommendations"
   ]
  },
  {
   "cell_type": "code",
   "execution_count": 29,
   "metadata": {
    "colab": {
     "base_uri": "https://localhost:8080/"
    },
    "collapsed": true,
    "executionInfo": {
     "elapsed": 9,
     "status": "ok",
     "timestamp": 1745340436528,
     "user": {
      "displayName": "Smruti Ranjan",
      "userId": "02421602762441713336"
     },
     "user_tz": -330
    },
    "id": "WU8Ed_UJVhib",
    "outputId": "dea8bbd2-02cc-4d5f-fe2d-661d3f503d14"
   },
   "outputs": [
    {
     "name": "stdout",
     "output_type": "stream",
     "text": [
      "Recipe Information for Index 2516\n",
      "Srno                                                                   2964\n",
      "RecipeName                        Broccoli & Vegetable Coconut Curry Recipe\n",
      "TranslatedRecipeName              Broccoli & Vegetable Coconut Curry Recipe\n",
      "Ingredients               400 grams Broccoli - cut into florets,1 Red Be...\n",
      "TranslatedIngredients     400 grams Broccoli - cut into florets,1 Red Be...\n",
      "PrepTimeInMins                                                           20\n",
      "CookTimeInMins                                                           40\n",
      "TotalTimeInMins                                                          60\n",
      "Servings                                                                  4\n",
      "Cuisine                                                         Mangalorean\n",
      "Course                                                            Side Dish\n",
      "Diet                                                      Diabetic Friendly\n",
      "Instructions              To begin making the Broccoli & Vegetable Cocon...\n",
      "TranslatedInstructions    To begin making the Broccoli & Vegetable Cocon...\n",
      "URL                       https://www.archanaskitchen.com/broccoli-and-v...\n",
      "Name: 2516, dtype: object\n",
      "---------------------------------------------------------------------------------------------\n",
      "Recipe Information for Index 5351\n",
      "Srno                                                                   7803\n",
      "RecipeName                               Baked Cheesy Broccoli Pasta Recipe\n",
      "TranslatedRecipeName                     Baked Cheesy Broccoli Pasta Recipe\n",
      "Ingredients               350 grams Penne pasta,2 cups Broccoli - floret...\n",
      "TranslatedIngredients     350 grams Penne pasta,2 cups Broccoli - floret...\n",
      "PrepTimeInMins                                                           10\n",
      "CookTimeInMins                                                           30\n",
      "TotalTimeInMins                                                          40\n",
      "Servings                                                                  4\n",
      "Cuisine                                                     Italian Recipes\n",
      "Course                                                               Dinner\n",
      "Diet                                                High Protein Vegetarian\n",
      "Instructions              To begin making the Broccoli Cheesy Pesto Past...\n",
      "TranslatedInstructions    To begin making the Broccoli Cheesy Pesto Past...\n",
      "URL                       http://www.archanaskitchen.com/broccoli-pesto-...\n",
      "Name: 5351, dtype: object\n",
      "---------------------------------------------------------------------------------------------\n",
      "Recipe Information for Index 144\n",
      "Srno                                                                    155\n",
      "RecipeName                कटाची आमटी रेसिपी - Katachi Amti (Recipe In Hi...\n",
      "TranslatedRecipeName                         Katachi Amti (Recipe In Hindi)\n",
      "Ingredients               2 कप दाल का पानी - चना दाल का पानी,1 कप पानी -...\n",
      "TranslatedIngredients     2 cups lentil water - chana lentil water, 1 cu...\n",
      "PrepTimeInMins                                                           10\n",
      "CookTimeInMins                                                           15\n",
      "TotalTimeInMins                                                          25\n",
      "Servings                                                                  4\n",
      "Cuisine                                               Maharashtrian Recipes\n",
      "Course                                                                Lunch\n",
      "Diet                                                             Vegetarian\n",
      "Instructions              कटाची आमटी बनाने के लिए सबसे पहले पानी को दाल ...\n",
      "TranslatedInstructions    To make kachchi mango, first mix the water in ...\n",
      "URL                       https://www.archanaskitchen.com/katachi-amti-r...\n",
      "Name: 144, dtype: object\n",
      "---------------------------------------------------------------------------------------------\n",
      "Recipe Information for Index 1503\n",
      "Srno                                                                   1693\n",
      "RecipeName                      चाउ चाउ करी रेसिपी - Chow Chow Curry Recipe\n",
      "TranslatedRecipeName        Chow Chow Curry Recipe - Chow Chow Curry Recipe\n",
      "Ingredients               2 चाउ चाउ - छीलकर काट ले,1/2 छोटा चम्मच राइ,1/...\n",
      "TranslatedIngredients     2 chow chow - peel and chop, 1/2 tsp rye, 1/2 ...\n",
      "PrepTimeInMins                                                           10\n",
      "CookTimeInMins                                                           40\n",
      "TotalTimeInMins                                                          50\n",
      "Servings                                                                  4\n",
      "Cuisine                                                South Indian Recipes\n",
      "Course                                                                Lunch\n",
      "Diet                                                             Vegetarian\n",
      "Instructions              चाउ चाउ करी रेसिपी बनाने के लिए सबसे पहले चाउ ...\n",
      "TranslatedInstructions    चाउ चाउ करी रेसिपी बनाने के लिए सबसे पहले चाउ ...\n",
      "URL                       https://www.archanaskitchen.com/chow-chow-curr...\n",
      "Name: 1503, dtype: object\n",
      "---------------------------------------------------------------------------------------------\n",
      "Recipe Information for Index 2672\n",
      "Srno                                                                   3190\n",
      "RecipeName                           Mushroom Masala Cheese Omelette Recipe\n",
      "TranslatedRecipeName                 Mushroom Masala Cheese Omelette Recipe\n",
      "Ingredients               2 Whole Eggs,10 Button mushrooms - roughly cho...\n",
      "TranslatedIngredients     2 Whole Eggs,10 Button mushrooms - roughly cho...\n",
      "PrepTimeInMins                                                           10\n",
      "CookTimeInMins                                                           10\n",
      "TotalTimeInMins                                                          20\n",
      "Servings                                                                  1\n",
      "Cuisine                                                         Continental\n",
      "Course                                                     Indian Breakfast\n",
      "Diet                                            High Protein Non Vegetarian\n",
      "Instructions              To begin making Mushroom Masala Omelette Recip...\n",
      "TranslatedInstructions    To begin making Mushroom Masala Omelette Recip...\n",
      "URL                       https://www.archanaskitchen.com/mushroom-masal...\n",
      "Name: 2672, dtype: object\n",
      "---------------------------------------------------------------------------------------------\n"
     ]
    }
   ],
   "source": [
    "for index in recommendations.index:\n",
    "    recipe_info = df.loc[index]\n",
    "    print(\"Recipe Information for Index\", index)\n",
    "    print(recipe_info)\n",
    "    print(\"---------------------------------------------------------------------------------------------\")"
   ]
  },
  {
   "cell_type": "code",
   "execution_count": 30,
   "metadata": {},
   "outputs": [],
   "source": [
    "#can we save the model\n",
    "import pickle\n",
    "with open('recipe_recommender_model.pkl', 'wb') as model_file:\n",
    "    pickle.dump(recommendations, model_file)\n",
    "    \n"
   ]
  },
  {
   "cell_type": "code",
   "execution_count": null,
   "metadata": {},
   "outputs": [],
   "source": []
  },
  {
   "cell_type": "code",
   "execution_count": 31,
   "metadata": {},
   "outputs": [
    {
     "name": "stderr",
     "output_type": "stream",
     "text": [
      "[nltk_data] Downloading package punkt to\n",
      "[nltk_data]     C:\\Users\\smrut\\AppData\\Roaming\\nltk_data...\n",
      "[nltk_data]   Package punkt is already up-to-date!\n",
      "[nltk_data] Downloading package stopwords to\n",
      "[nltk_data]     C:\\Users\\smrut\\AppData\\Roaming\\nltk_data...\n",
      "[nltk_data]   Package stopwords is already up-to-date!\n"
     ]
    },
    {
     "name": "stdout",
     "output_type": "stream",
     "text": [
      "Model saved as 'recipe_recommender_model.pkl'.\n"
     ]
    }
   ],
   "source": [
    "import pandas as pd\n",
    "import spacy\n",
    "import nltk\n",
    "from nltk.corpus import stopwords\n",
    "from sklearn.feature_extraction.text import TfidfVectorizer\n",
    "import pickle\n",
    "import string  # Import string module\n",
    "\n",
    "# Load necessary resources\n",
    "nltk.download('punkt')\n",
    "nltk.download('stopwords')\n",
    "nlp = spacy.load('en_core_web_sm')\n",
    "\n",
    "# Load dataset\n",
    "df = pd.read_csv('IndianFoodDatasetCSV.csv')\n",
    "\n",
    "# Preprocess text\n",
    "def preprocess_text(text):\n",
    "    if isinstance(text, str) and text:\n",
    "        text = text.lower()\n",
    "        text = ''.join([char for char in text if char not in string.punctuation])\n",
    "        tokens = nltk.word_tokenize(text)\n",
    "        stop_words = set(stopwords.words('english'))\n",
    "        tokens = [word for word in tokens if word not in stop_words]\n",
    "        return ' '.join(tokens)\n",
    "    return ''\n",
    "\n",
    "# Extract ingredients\n",
    "def extract_ingredients(text):\n",
    "    if pd.isnull(text):\n",
    "        return ''\n",
    "    doc = nlp(text)\n",
    "    ingredients = [token.text for token in doc if token.pos_ in ['NOUN', 'PROPN'] or token.dep_ == 'compound']\n",
    "    return ', '.join(ingredients)\n",
    "\n",
    "# Apply preprocessing and extract ingredients\n",
    "df['Ingredients'] = df['TranslatedIngredients'].apply(extract_ingredients)\n",
    "df['Ingredients'] = df['Ingredients'].apply(preprocess_text)\n",
    "\n",
    "# Create TF-IDF matrix\n",
    "tfidf_vectorizer = TfidfVectorizer()\n",
    "tfidf_matrix = tfidf_vectorizer.fit_transform(df['Ingredients'])\n",
    "\n",
    "# Save the model and TF-IDF vectorizer\n",
    "model_data = {\n",
    "    'tfidf_vectorizer': tfidf_vectorizer,\n",
    "    'tfidf_matrix': tfidf_matrix,\n",
    "    'dataframe': df\n",
    "}\n",
    "\n",
    "with open('recipe_recommender_model.pkl', 'wb') as model_file:\n",
    "    pickle.dump(model_data, model_file)\n",
    "\n",
    "print(\"Model saved as 'recipe_recommender_model.pkl'.\")"
   ]
  }
 ],
 "metadata": {
  "accelerator": "GPU",
  "colab": {
   "gpuType": "T4",
   "provenance": []
  },
  "kernelspec": {
   "display_name": "env",
   "language": "python",
   "name": "python3"
  },
  "language_info": {
   "codemirror_mode": {
    "name": "ipython",
    "version": 3
   },
   "file_extension": ".py",
   "mimetype": "text/x-python",
   "name": "python",
   "nbconvert_exporter": "python",
   "pygments_lexer": "ipython3",
   "version": "3.12.4"
  }
 },
 "nbformat": 4,
 "nbformat_minor": 0
}
